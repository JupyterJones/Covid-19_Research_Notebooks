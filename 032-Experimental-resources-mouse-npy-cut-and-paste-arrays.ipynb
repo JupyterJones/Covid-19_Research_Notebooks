{
 "cells": [
  {
   "cell_type": "code",
   "execution_count": null,
   "metadata": {},
   "outputs": [],
   "source": [
    "%%html\n",
    "<p style=\"font-size:24px;line-height: 1.6;\">The reason \"mouse-sizing-n-cropping\" Jupyter Notebook is in this repository.<br />I want to find areas of a latitude and longitude plot and select them to create<br />  a zoomed map.I have used this notebook to crop images and perhaps it can<br /> help in the cropping of a map plot.</p>"
   ]
  },
  {
   "cell_type": "markdown",
   "metadata": {},
   "source": [
    "# ALLOW INTER ACTIVITY"
   ]
  },
  {
   "cell_type": "code",
   "execution_count": null,
   "metadata": {},
   "outputs": [],
   "source": [
    "!mkdir mouse-sizing-n-cropping-files"
   ]
  },
  {
   "cell_type": "code",
   "execution_count": null,
   "metadata": {},
   "outputs": [],
   "source": [
    "from IPython.core.interactiveshell import InteractiveShell\n",
    "InteractiveShell.ast_node_interactivity = \"all\""
   ]
  },
  {
   "cell_type": "code",
   "execution_count": null,
   "metadata": {},
   "outputs": [],
   "source": [
    "!wget -O mouse-sizing-n-cropping-files/postoid.jpg https://jacknorthrup.com/postoids/postoid%20%2810%29.jpg"
   ]
  },
  {
   "cell_type": "code",
   "execution_count": null,
   "metadata": {},
   "outputs": [],
   "source": [
    "from PIL import Image\n",
    "im=Image.open('mouse-sizing-n-cropping-files/postoid.jpg')\n",
    "im.size # (width,height) tuple"
   ]
  },
  {
   "cell_type": "code",
   "execution_count": null,
   "metadata": {},
   "outputs": [],
   "source": [
    "import PIL\n",
    "from PIL import Image\n",
    "\n",
    "basewidth = 400\n",
    "img = Image.open(\"mouse-sizing-n-cropping-files/postoid.jpg\")\n",
    "wpercent = (basewidth / float(img.size[0]))\n",
    "hsize = int((float(img.size[1]) * float(wpercent)))\n",
    "img = img.resize((basewidth, hsize), PIL.Image.ANTIALIAS)\n",
    "img.save(\"mouse-sizing-n-cropping-files/postoid400.jpg\")\n",
    "img"
   ]
  },
  {
   "cell_type": "raw",
   "metadata": {},
   "source": [
    "http://stackoverflow.com/questions/6136588/image-cropping-using-python\n",
    "http://2017.compciv.org/guide/topics/python-nonstandard-libraries/pillow.html"
   ]
  },
  {
   "cell_type": "code",
   "execution_count": null,
   "metadata": {},
   "outputs": [],
   "source": []
  },
  {
   "cell_type": "code",
   "execution_count": null,
   "metadata": {},
   "outputs": [],
   "source": []
  },
  {
   "cell_type": "code",
   "execution_count": null,
   "metadata": {},
   "outputs": [],
   "source": [
    "!mv mouse-sizing-n-cropping-files/desert-drought-dehydrated-clay-soil-60013.jpg mouse-sizing-n-cropping-files/soil.jpg"
   ]
  },
  {
   "cell_type": "code",
   "execution_count": null,
   "metadata": {},
   "outputs": [],
   "source": []
  },
  {
   "cell_type": "code",
   "execution_count": null,
   "metadata": {},
   "outputs": [],
   "source": [
    "from PIL import Image\n",
    "im=Image.open('mouse-sizing-n-cropping-files/soil.jpg')\n",
    "im.size # (width,height) tuple"
   ]
  },
  {
   "cell_type": "code",
   "execution_count": null,
   "metadata": {},
   "outputs": [],
   "source": [
    "import PIL\n",
    "from PIL import Image\n",
    "\n",
    "basewidth = 600\n",
    "img = Image.open(\"mouse-sizing-n-cropping-files/soil.jpg\")\n",
    "wpercent = (basewidth / float(img.size[0]))\n",
    "hsize = int((float(img.size[1]) * float(wpercent)))\n",
    "img = img.resize((basewidth, hsize), PIL.Image.ANTIALIAS)\n",
    "img.save(\"mouse-sizing-n-cropping-files/soil600.jpg\")"
   ]
  },
  {
   "cell_type": "code",
   "execution_count": null,
   "metadata": {},
   "outputs": [],
   "source": [
    "from PIL import Image\n",
    "im=Image.open(\"mouse-sizing-n-cropping-files/soil600.jpg\")\n",
    "im.size # (width,height) tuple"
   ]
  },
  {
   "cell_type": "code",
   "execution_count": null,
   "metadata": {},
   "outputs": [],
   "source": [
    "from PIL import Image\n",
    "im=Image.open(\"mouse-sizing-n-cropping-files/soil600.jpg\")\n",
    "im # (display image)"
   ]
  },
  {
   "cell_type": "code",
   "execution_count": null,
   "metadata": {},
   "outputs": [],
   "source": [
    "def add_cursor(fig, ax):\n",
    "    plt.close(fig)\n",
    "\n",
    "    vline = ax.axvline(1, color='k')\n",
    "    hline = ax.axhline(0.5, color='k')\n",
    "\n",
    "    def set_cursor(x, y):\n",
    "        vline.set_xdata((x, x))\n",
    "        hline.set_ydata((y, y))\n",
    "        display(fig)\n",
    "\n",
    "    interact(set_cursor, x=ax.get_xlim(), y=ax.get_ylim())"
   ]
  },
  {
   "cell_type": "code",
   "execution_count": null,
   "metadata": {},
   "outputs": [],
   "source": [
    "#import ipympl\n",
    "from math import sin\n",
    "import matplotlib.pyplot as plt\n",
    "%matplotlib inline \n",
    "x = (sin(6))\n",
    "plt.plot([0, 1, 2, x, 5, 8,0,-4, -2, -6])\n",
    "plt.show()\n"
   ]
  },
  {
   "cell_type": "code",
   "execution_count": null,
   "metadata": {},
   "outputs": [],
   "source": [
    "import matplotlib.pyplot as plt\n",
    "%matplotlib inline \n",
    "plt.rcParams['figure.figsize'] = (20.0, 10.0)\n",
    "import matplotlib.image as mpimg\n",
    "import numpy as np\n",
    "img=mpimg.imread('mouse-sizing-n-cropping-files/soil600.jpg')\n",
    "imgplot = plt.imshow(img)\n"
   ]
  },
  {
   "cell_type": "code",
   "execution_count": null,
   "metadata": {},
   "outputs": [],
   "source": [
    "from PIL import Image\n",
    "img = Image.open('mouse-sizing-n-cropping-files/soil600.jpg')\n",
    "crop_specs = (145, 50, img.width - 40, img.height - 135)\n",
    "crop_img = img.crop(crop_specs)\n",
    "crop_img.save('mouse-sizing-n-cropping-files/soil-cropped.png')   "
   ]
  },
  {
   "cell_type": "code",
   "execution_count": null,
   "metadata": {},
   "outputs": [],
   "source": [
    "img=mpimg.imread('mouse-sizing-n-cropping-files/soil-cropped.png')\n",
    "imgplot = plt.imshow(img)"
   ]
  },
  {
   "cell_type": "code",
   "execution_count": null,
   "metadata": {},
   "outputs": [],
   "source": [
    "from PIL import Image\n",
    "im=Image.open('mouse-sizing-n-cropping-files/soil-cropped.png')\n",
    "im.size # (width,height) tuple"
   ]
  },
  {
   "cell_type": "code",
   "execution_count": null,
   "metadata": {},
   "outputs": [],
   "source": [
    "from PIL import Image\n",
    "im=Image.open('mouse-sizing-n-cropping-files/soil-cropped.png')\n",
    "im"
   ]
  },
  {
   "cell_type": "markdown",
   "metadata": {},
   "source": [
    "# Info on mpld3     http://mpld3.github.io/"
   ]
  },
  {
   "cell_type": "code",
   "execution_count": null,
   "metadata": {},
   "outputs": [],
   "source": [
    "import numpy as np\n",
    "import matplotlib.pyplot as plt\n",
    "import matplotlib as mpl\n",
    "import matplotlib.path as mpath\n",
    "import matplotlib.patches as mpatches\n",
    "\n",
    "import mpld3\n",
    "from mpld3 import plugins, utils\n",
    "\n",
    "\n",
    "class LinkedDragPlugin(plugins.PluginBase):\n",
    "    JAVASCRIPT = r\"\"\"\n",
    "    mpld3.register_plugin(\"drag\", DragPlugin);\n",
    "    DragPlugin.prototype = Object.create(mpld3.Plugin.prototype);\n",
    "    DragPlugin.prototype.constructor = DragPlugin;\n",
    "    DragPlugin.prototype.requiredProps = [\"idpts\", \"idline\", \"idpatch\"];\n",
    "    DragPlugin.prototype.defaultProps = {}\n",
    "    function DragPlugin(fig, props){\n",
    "        mpld3.Plugin.call(this, fig, props);\n",
    "    };\n",
    "\n",
    "    DragPlugin.prototype.draw = function(){\n",
    "        var patchobj = mpld3.get_element(this.props.idpatch, this.fig);\n",
    "        var ptsobj = mpld3.get_element(this.props.idpts, this.fig);\n",
    "        var lineobj = mpld3.get_element(this.props.idline, this.fig);\n",
    "\n",
    "        var drag = d3.behavior.drag()\n",
    "            .origin(function(d) { return {x:ptsobj.ax.x(d[0]),\n",
    "                                          y:ptsobj.ax.y(d[1])}; })\n",
    "            .on(\"dragstart\", dragstarted)\n",
    "            .on(\"drag\", dragged)\n",
    "            .on(\"dragend\", dragended);\n",
    "\n",
    "        lineobj.path.attr(\"d\", lineobj.datafunc(ptsobj.offsets));\n",
    "        patchobj.path.attr(\"d\", patchobj.datafunc(ptsobj.offsets,\n",
    "                                                  patchobj.pathcodes));\n",
    "        lineobj.data = ptsobj.offsets;\n",
    "        patchobj.data = ptsobj.offsets;\n",
    "\n",
    "        ptsobj.elements()\n",
    "           .data(ptsobj.offsets)\n",
    "           .style(\"cursor\", \"default\")\n",
    "           .call(drag);\n",
    "\n",
    "        function dragstarted(d) {\n",
    "          d3.event.sourceEvent.stopPropagation();\n",
    "          d3.select(this).classed(\"dragging\", true);\n",
    "        }\n",
    "\n",
    "        function dragged(d, i) {\n",
    "          d[0] = ptsobj.ax.x.invert(d3.event.x);\n",
    "          d[1] = ptsobj.ax.y.invert(d3.event.y);\n",
    "          d3.select(this)\n",
    "            .attr(\"transform\", \"translate(\" + [d3.event.x,d3.event.y] + \")\");\n",
    "          lineobj.path.attr(\"d\", lineobj.datafunc(ptsobj.offsets));\n",
    "          patchobj.path.attr(\"d\", patchobj.datafunc(ptsobj.offsets,\n",
    "                                                    patchobj.pathcodes));\n",
    "        }\n",
    "\n",
    "        function dragended(d, i) {\n",
    "          d3.select(this).classed(\"dragging\", false);\n",
    "        }\n",
    "    }\n",
    "\n",
    "    mpld3.register_plugin(\"drag\", DragPlugin);\n",
    "    \"\"\"\n",
    "\n",
    "    def __init__(self, points, line, patch):\n",
    "        if isinstance(points, mpl.lines.Line2D):\n",
    "            suffix = \"pts\"\n",
    "        else:\n",
    "            suffix = None\n",
    "\n",
    "        self.dict_ = {\"type\": \"drag\",\n",
    "                      \"idpts\": utils.get_id(points, suffix),\n",
    "                      \"idline\": utils.get_id(line),\n",
    "                      \"idpatch\": utils.get_id(patch)}\n",
    "\n",
    "\n",
    "fig, ax = plt.subplots()\n",
    "\n",
    "Path = mpath.Path\n",
    "path_data = [\n",
    "    (Path.MOVETO, (1.58, -2.57)),\n",
    "    (Path.CURVE4, (0.35, -1.1)),\n",
    "    (Path.CURVE4, (-1.75, 2.0)),\n",
    "    (Path.CURVE4, (0.375, 2.0)),\n",
    "    (Path.LINETO, (0.85, 1.15)),\n",
    "    (Path.CURVE4, (2.2, 3.2)),\n",
    "    (Path.CURVE4, (3, 0.05)),\n",
    "    (Path.CURVE4, (2.0, -0.5)),\n",
    "    (Path.CLOSEPOLY, (1.58, -2.57)),\n",
    "    ]\n",
    "codes, verts = zip(*path_data)\n",
    "path = mpath.Path(verts, codes)\n",
    "patch = mpatches.PathPatch(path, facecolor='r', alpha=0.5)\n",
    "ax.add_patch(patch)\n",
    "\n",
    "# plot control points and connecting lines\n",
    "x, y = zip(*path.vertices[:-1])\n",
    "points = ax.plot(x, y, 'go', ms=10)\n",
    "line = ax.plot(x, y, '-k')\n",
    "\n",
    "ax.grid(True, color='gray', alpha=0.5)\n",
    "ax.axis('equal')\n",
    "ax.set_title(\"Drag Points to Change Path\", fontsize=18)\n",
    "\n",
    "plugins.connect(fig, LinkedDragPlugin(points[0], line[0], patch))\n",
    "\n",
    "mpld3.display()"
   ]
  },
  {
   "cell_type": "code",
   "execution_count": null,
   "metadata": {},
   "outputs": [],
   "source": [
    "import matplotlib.pyplot as plt\n",
    "import numpy as np\n",
    "import mpld3\n",
    "from mpld3 import plugins\n",
    "\n",
    "fig, ax = plt.subplots()\n",
    "\n",
    "x = np.linspace(-2, 2, 20)\n",
    "y = x[:, None]\n",
    "X = np.zeros((20, 20, 4))\n",
    "\n",
    "X[:, :, 0] = np.exp(- (x - 1) ** 2 - (y) ** 2)\n",
    "X[:, :, 1] = np.exp(- (x + 0.71) ** 2 - (y - 0.71) ** 2)\n",
    "X[:, :, 2] = np.exp(- (x + 0.71) ** 2 - (y + 0.71) ** 2)\n",
    "X[:, :, 3] = np.exp(-0.25 * (x ** 2 + y ** 2))\n",
    "\n",
    "im = ax.imshow(X, extent=(10, 20, 10, 20),\n",
    "               origin='lower', zorder=1, interpolation='nearest')\n",
    "fig.colorbar(im, ax=ax)\n",
    "\n",
    "ax.set_title('An Image', size=20)\n",
    "\n",
    "plugins.connect(fig, plugins.MousePosition(fontsize=14))\n",
    "\n",
    "mpld3.display()\n"
   ]
  },
  {
   "cell_type": "code",
   "execution_count": null,
   "metadata": {},
   "outputs": [],
   "source": [
    "from IPython.display import Image\n",
    "image = Image('mouse-sizing-n-cropping-files/soil600.jpg')\n",
    "image\n"
   ]
  },
  {
   "cell_type": "code",
   "execution_count": null,
   "metadata": {},
   "outputs": [],
   "source": [
    "class ImageFile(object):\n",
    "    \"\"\"Class for storing an image location.\"\"\"\n",
    "\n",
    "    def __init__(self, fpath):\n",
    "        self.fpath = fpath\n",
    "        self.format = fpath.split('.')[-1]\n",
    "\n",
    "    def _repr_png_(self):\n",
    "        if self.format == 'png':\n",
    "            return open(self.fpath, 'r').read()\n",
    "\n",
    "    def _repr_jpeg_(self):\n",
    "        if self.format == 'jpeg' or self.format == 'jpg':\n",
    "            return open(self.fpath, 'r').read()\n",
    "\n",
    "    def _repr_svg_(self):\n",
    "        if self.format == 'svg':\n",
    "            return open(self.fpath, 'r').read()\n",
    "\n"
   ]
  },
  {
   "cell_type": "code",
   "execution_count": null,
   "metadata": {},
   "outputs": [],
   "source": [
    "import matplotlib\n",
    "import numpy as np\n",
    "import matplotlib.pyplot as plt\n",
    "from PIL import Image\n",
    "%matplotlib inline\n",
    "\n",
    "im = np.array(Image.open('mouse-sizing-n-cropping-files/soil600.jpg'))\n",
    "plt.imshow(im)\n",
    "plt.show()"
   ]
  },
  {
   "cell_type": "raw",
   "metadata": {},
   "source": [
    "!conda install --yes mpld3"
   ]
  },
  {
   "cell_type": "code",
   "execution_count": null,
   "metadata": {},
   "outputs": [],
   "source": [
    "import matplotlib.pyplot as plt\n",
    "import numpy as np\n",
    "import mpld3\n",
    "%matplotlib inline  \n",
    "from mpld3 import plugins\n",
    "from PIL import Image\n",
    "img=Image.open(\"mouse-sizing-n-cropping-files/soil600.jpg\")\n",
    " \n",
    "\n",
    "fig, ax = plt.subplots()\n",
    "im = ax.imshow(img, extent=(10, 20, 10, 20),\n",
    "               origin='lower', zorder=1, interpolation='nearest')\n",
    "\n",
    "plugins.connect(fig, plugins.MousePosition(fontsize=14))\n",
    "mpld3.display()\n",
    "from PIL import Image\n",
    "\n",
    "\n",
    "im = np.array(Image.open('mouse-sizing-n-cropping-files/soil600.jpg'))\n",
    "\n"
   ]
  },
  {
   "cell_type": "code",
   "execution_count": null,
   "metadata": {},
   "outputs": [],
   "source": [
    "!ls *.png"
   ]
  },
  {
   "cell_type": "code",
   "execution_count": null,
   "metadata": {},
   "outputs": [],
   "source": [
    "import matplotlib\n",
    "import numpy as np\n",
    "import mpld3\n",
    "import matplotlib.pyplot as plt\n",
    "from PIL import Image\n",
    "from mpld3 import plugins\n",
    "%matplotlib inline\n",
    "fig, ax = plt.subplots()\n",
    "im = np.array(Image.open('26_May_2020a.png'))\n",
    "# Default shows the image upside down [::-1] flips the image\n",
    "#im = im[::-1]\n",
    "plt.imshow(im)\n",
    "plugins.connect(fig, plugins.MousePosition(fontsize=14))\n",
    "\n",
    "mpld3.display()"
   ]
  },
  {
   "cell_type": "code",
   "execution_count": null,
   "metadata": {},
   "outputs": [],
   "source": [
    "!ls"
   ]
  },
  {
   "cell_type": "raw",
   "metadata": {},
   "source": [
    "from PIL import Image\n",
    "img = Image.open('mouse-sizing-n-cropping-files/soil600.jpg')\n",
    "crop_specs = (200, 0, img.width - 150, img.height - 0)\n",
    "crop_img = img.crop(crop_specs)\n",
    "crop_img.save('mouse-sizing-n-cropping-files/cropsoil600.jpg')   "
   ]
  },
  {
   "cell_type": "code",
   "execution_count": null,
   "metadata": {},
   "outputs": [],
   "source": [
    "import matplotlib\n",
    "import numpy as np\n",
    "import mpld3\n",
    "import matplotlib.pyplot as plt\n",
    "from PIL import Image\n",
    "from mpld3 import plugins\n",
    "%matplotlib inline\n",
    "fig, ax = plt.subplots()\n",
    "im = np.array(Image.open('26_May_2020a.png'))\n",
    "# Default shows the image upside down [::-1] flips the image\n",
    "im = im[::-1]\n",
    "plt.imshow(im)\n",
    "plugins.connect(fig, plugins.MousePosition(fontsize=14))\n",
    "\n",
    "mpld3.display()"
   ]
  },
  {
   "cell_type": "code",
   "execution_count": null,
   "metadata": {},
   "outputs": [],
   "source": [
    "im = Image.open('mouse-sizing-n-cropping-files/soil600.jpg')\n",
    "im"
   ]
  },
  {
   "cell_type": "code",
   "execution_count": null,
   "metadata": {},
   "outputs": [],
   "source": [
    "#Python 2.7 - Linux\n",
    "from PIL import Image\n",
    "# open an image file (.jpg or.png)\n",
    "im1 = Image.open('26_May_2020a.png')\n",
    "# multiply each pixel by a variable - less than 1 is darker greater than 1 is lighter\n",
    "# works best with .jpg and .png images\n",
    "im2 = im1.point(lambda p: p * 1.8) # lighter\n",
    "im3 = im1.point(lambda p: p * .5)  # Darker\n",
    "\n",
    "# This pops up your defaultimage viewer\n",
    "im1.show()\n",
    "im2.show()\n",
    "im3.show()\n",
    "# save modified image \n",
    "im2.save(\"26_May_2020-light.png\")\n",
    "im3.save(\"26_May_2020-dark.png\")\n"
   ]
  },
  {
   "cell_type": "code",
   "execution_count": null,
   "metadata": {},
   "outputs": [],
   "source": [
    "import matplotlib\n",
    "import numpy as np\n",
    "import mpld3\n",
    "import matplotlib.pyplot as plt\n",
    "from PIL import Image\n",
    "from mpld3 import plugins\n",
    "%matplotlib inline\n",
    "fig, ax = plt.subplots()\n",
    "im = np.array(Image.open('26_May_2020a.png'))\n",
    "# Default shows the image upside down [::-1] flips the image\n",
    "#im = im[::-1]\n",
    "plt.imshow(im)\n",
    "plugins.connect(fig, plugins.MousePosition(fontsize=14))\n",
    "\n",
    "\n",
    "mpld3.display()"
   ]
  },
  {
   "cell_type": "code",
   "execution_count": null,
   "metadata": {},
   "outputs": [],
   "source": [
    "import numpy as np\n",
    "import cv2\n",
    "from matplotlib import pyplot as plt\n",
    "\n",
    "img = cv2.imread('26_May_2020a.png')\n",
    "mask = np.zeros(img.shape[:2],np.uint8)\n",
    "\n",
    "bgdModel = np.zeros((1,65),np.float64)\n",
    "fgdModel = np.zeros((1,65),np.float64)\n",
    "\n",
    "rect = (425,107,686,454)\n",
    "cv2.grabCut(img,mask,rect,bgdModel,fgdModel,5,cv2.GC_INIT_WITH_RECT)\n",
    "mask2 = np.where((mask==2)|(mask==0),0,1).astype('uint8')\n",
    "img = img*mask2[:,:,np.newaxis]\n",
    "\n",
    "plt.imshow(img)\n",
    "plt.colorbar()\n",
    "plt.show()"
   ]
  },
  {
   "cell_type": "code",
   "execution_count": 3,
   "metadata": {},
   "outputs": [
    {
     "data": {
      "text/html": [
       "\n",
       "\n",
       "<style>\n",
       "\n",
       "</style>\n",
       "\n",
       "<div id=\"fig_el192961402642737731369177041824\"></div>\n",
       "<script>\n",
       "function mpld3_load_lib(url, callback){\n",
       "  var s = document.createElement('script');\n",
       "  s.src = url;\n",
       "  s.async = true;\n",
       "  s.onreadystatechange = s.onload = callback;\n",
       "  s.onerror = function(){console.warn(\"failed to load library \" + url);};\n",
       "  document.getElementsByTagName(\"head\")[0].appendChild(s);\n",
       "}\n",
       "\n",
       "if(typeof(mpld3) !== \"undefined\" && mpld3._mpld3IsLoaded){\n",
       "   // already loaded: just create the figure\n",
       "   !function(mpld3){\n",
       "       \n",
       "       mpld3.draw_figure(\"fig_el192961402642737731369177041824\", {\"width\": 432.0, \"height\": 288.0, \"axes\": [{\"bbox\": [0.125, 0.125, 0.775, 0.755], \"xlim\": [0.0, 1.0], \"ylim\": [0.0, 1.0], \"xdomain\": [0.0, 1.0], \"ydomain\": [0.0, 1.0], \"xscale\": \"linear\", \"yscale\": \"linear\", \"axes\": [{\"position\": \"bottom\", \"nticks\": 6, \"tickvalues\": null, \"tickformat\": null, \"scale\": \"linear\", \"fontsize\": 10.0, \"grid\": {\"gridOn\": false}, \"visible\": true}, {\"position\": \"left\", \"nticks\": 6, \"tickvalues\": null, \"tickformat\": null, \"scale\": \"linear\", \"fontsize\": 10.0, \"grid\": {\"gridOn\": false}, \"visible\": true}], \"axesbg\": \"#FFFFFF\", \"axesbgalpha\": null, \"zoomable\": true, \"id\": \"el19296140264273703248\", \"lines\": [], \"paths\": [], \"markers\": [], \"texts\": [], \"collections\": [], \"images\": [], \"sharex\": [], \"sharey\": []}], \"data\": {}, \"id\": \"el19296140264273773136\", \"plugins\": [{\"type\": \"reset\"}, {\"type\": \"zoom\", \"button\": true, \"enabled\": false}, {\"type\": \"boxzoom\", \"button\": true, \"enabled\": false}, {\"type\": \"mouseposition\", \"fontsize\": 14, \"fmt\": \".3g\"}]});\n",
       "   }(mpld3);\n",
       "}else if(typeof define === \"function\" && define.amd){\n",
       "   // require.js is available: use it to load d3/mpld3\n",
       "   require.config({paths: {d3: \"https://mpld3.github.io/js/d3.v3.min\"}});\n",
       "   require([\"d3\"], function(d3){\n",
       "      window.d3 = d3;\n",
       "      mpld3_load_lib(\"https://mpld3.github.io/js/mpld3.v0.3.js\", function(){\n",
       "         \n",
       "         mpld3.draw_figure(\"fig_el192961402642737731369177041824\", {\"width\": 432.0, \"height\": 288.0, \"axes\": [{\"bbox\": [0.125, 0.125, 0.775, 0.755], \"xlim\": [0.0, 1.0], \"ylim\": [0.0, 1.0], \"xdomain\": [0.0, 1.0], \"ydomain\": [0.0, 1.0], \"xscale\": \"linear\", \"yscale\": \"linear\", \"axes\": [{\"position\": \"bottom\", \"nticks\": 6, \"tickvalues\": null, \"tickformat\": null, \"scale\": \"linear\", \"fontsize\": 10.0, \"grid\": {\"gridOn\": false}, \"visible\": true}, {\"position\": \"left\", \"nticks\": 6, \"tickvalues\": null, \"tickformat\": null, \"scale\": \"linear\", \"fontsize\": 10.0, \"grid\": {\"gridOn\": false}, \"visible\": true}], \"axesbg\": \"#FFFFFF\", \"axesbgalpha\": null, \"zoomable\": true, \"id\": \"el19296140264273703248\", \"lines\": [], \"paths\": [], \"markers\": [], \"texts\": [], \"collections\": [], \"images\": [], \"sharex\": [], \"sharey\": []}], \"data\": {}, \"id\": \"el19296140264273773136\", \"plugins\": [{\"type\": \"reset\"}, {\"type\": \"zoom\", \"button\": true, \"enabled\": false}, {\"type\": \"boxzoom\", \"button\": true, \"enabled\": false}, {\"type\": \"mouseposition\", \"fontsize\": 14, \"fmt\": \".3g\"}]});\n",
       "      });\n",
       "    });\n",
       "}else{\n",
       "    // require.js not available: dynamically load d3 & mpld3\n",
       "    mpld3_load_lib(\"https://mpld3.github.io/js/d3.v3.min.js\", function(){\n",
       "         mpld3_load_lib(\"https://mpld3.github.io/js/mpld3.v0.3.js\", function(){\n",
       "                 \n",
       "                 mpld3.draw_figure(\"fig_el192961402642737731369177041824\", {\"width\": 432.0, \"height\": 288.0, \"axes\": [{\"bbox\": [0.125, 0.125, 0.775, 0.755], \"xlim\": [0.0, 1.0], \"ylim\": [0.0, 1.0], \"xdomain\": [0.0, 1.0], \"ydomain\": [0.0, 1.0], \"xscale\": \"linear\", \"yscale\": \"linear\", \"axes\": [{\"position\": \"bottom\", \"nticks\": 6, \"tickvalues\": null, \"tickformat\": null, \"scale\": \"linear\", \"fontsize\": 10.0, \"grid\": {\"gridOn\": false}, \"visible\": true}, {\"position\": \"left\", \"nticks\": 6, \"tickvalues\": null, \"tickformat\": null, \"scale\": \"linear\", \"fontsize\": 10.0, \"grid\": {\"gridOn\": false}, \"visible\": true}], \"axesbg\": \"#FFFFFF\", \"axesbgalpha\": null, \"zoomable\": true, \"id\": \"el19296140264273703248\", \"lines\": [], \"paths\": [], \"markers\": [], \"texts\": [], \"collections\": [], \"images\": [], \"sharex\": [], \"sharey\": []}], \"data\": {}, \"id\": \"el19296140264273773136\", \"plugins\": [{\"type\": \"reset\"}, {\"type\": \"zoom\", \"button\": true, \"enabled\": false}, {\"type\": \"boxzoom\", \"button\": true, \"enabled\": false}, {\"type\": \"mouseposition\", \"fontsize\": 14, \"fmt\": \".3g\"}]});\n",
       "            })\n",
       "         });\n",
       "}\n",
       "</script>"
      ],
      "text/plain": [
       "<IPython.core.display.HTML object>"
      ]
     },
     "execution_count": 3,
     "metadata": {},
     "output_type": "execute_result"
    }
   ],
   "source": [
    "import matplotlib.pyplot as plt\n",
    "import numpy as np\n",
    "import mpld3\n",
    "#%matplotlib inline  \n",
    "from mpld3 import plugins\n",
    "from PIL import Image\n",
    "fig, ax = plt.subplots()\n",
    "\n",
    "plugins.connect(fig, plugins.MousePosition(fontsize=14))\n",
    "mpld3.display()"
   ]
  },
  {
   "cell_type": "markdown",
   "metadata": {},
   "source": [
    "# -----------------------------------------------"
   ]
  },
  {
   "cell_type": "code",
   "execution_count": null,
   "metadata": {},
   "outputs": [],
   "source": [
    "!wget -O mouse-sizing-n-cropping-files/jungle.jpg https://upload.wikimedia.org/wikipedia/commons/thumb/8/81/Brooklyn_Museum_-_In_the_Jungle%2C_Florida_-_Winslow_Homer_-_overall.jpg/800px-Brooklyn_Museum_-_In_the_Jungle%2C_Florida_-_Winslow_Homer_-_overall.jpg"
   ]
  },
  {
   "cell_type": "code",
   "execution_count": null,
   "metadata": {},
   "outputs": [],
   "source": [
    "import PIL\n",
    "from PIL import Image\n",
    "im1 = Image.open(\"26_May_2020a.png\")\n",
    "#longer_side = max(im1.size)\n",
    "basewidth = 700\n",
    "hsize = 500\n",
    "img = im1.resize((basewidth, hsize), PIL.Image.ANTIALIAS)\n",
    "img.save(\"26_May_2020-700.png\")\n",
    "im = Image.open(\"26_May_2020-700.png\")\n",
    "im"
   ]
  },
  {
   "cell_type": "markdown",
   "metadata": {},
   "source": [
    "# Gives a popup window Points Clicked will be recorded"
   ]
  },
  {
   "cell_type": "code",
   "execution_count": null,
   "metadata": {},
   "outputs": [],
   "source": [
    "popup = Tk.Toplevel()"
   ]
  },
  {
   "cell_type": "code",
   "execution_count": null,
   "metadata": {},
   "outputs": [],
   "source": [
    "from tkinter import *\n",
    "import tkinter\n",
    "from PIL import Image, ImageTk\n",
    "from sys import argv\n",
    "\n",
    "window = tkinter.Tk(className=\"bla\")\n",
    "\n",
    "image = Image.open(\"26_May_2020-700.png\")\n",
    "canvas = tkinter.Canvas(window, width=image.size[0], height=image.size[1])\n",
    "canvas.pack()\n",
    "image_tk = ImageTk.PhotoImage(image)\n",
    "canvas.create_image(image.size[0]//2, image.size[1]//2, image=image_tk)\n",
    "\n",
    "def callback(event):\n",
    "    #print \"[\",event.x,\"],[\"+event.y,\"]\"\n",
    "    print (\"[\",event.x,\",\",event.y,\"],\",)\n",
    "\n",
    "canvas.bind(\"<Button-1>\", callback)\n",
    "tkinter.mainloop()\n",
    "\n",
    "#Button(window, text=\"Quit\", command=window.destroy).pack()\n",
    "#window.mainloop()\n",
    "\n",
    "window.quit()"
   ]
  },
  {
   "cell_type": "code",
   "execution_count": null,
   "metadata": {},
   "outputs": [],
   "source": [
    "window.quit()"
   ]
  },
  {
   "cell_type": "code",
   "execution_count": null,
   "metadata": {},
   "outputs": [],
   "source": [
    "import numpy as np\n",
    "poly = np.array([ [ 320 , 123 ], [ 437 , 121 ], [ 451 , 267 ], [ 356 , 277 ],[ 321 , 125 ] ], np.int32)\n",
    "print (poly)"
   ]
  },
  {
   "cell_type": "code",
   "execution_count": null,
   "metadata": {},
   "outputs": [],
   "source": [
    "import numpy as np\n",
    "poly = np.array([ [ 320 , 123 ], [ 437 , 121 ], [ 451 , 267 ], [ 356 , 277 ],[ 321 , 125 ] ], np.float32)\n",
    "print (poly)"
   ]
  },
  {
   "cell_type": "markdown",
   "metadata": {},
   "source": [
    "## USING those \" Points Clicked \""
   ]
  },
  {
   "cell_type": "code",
   "execution_count": null,
   "metadata": {},
   "outputs": [],
   "source": [
    "import cv2\n",
    "import numpy as np "
   ]
  },
  {
   "cell_type": "code",
   "execution_count": null,
   "metadata": {},
   "outputs": [],
   "source": [
    "import cv2\n",
    "import numpy as np \n",
    "\n",
    "# Read images\n",
    "dst = cv2.imread(\"26_May_2020-700.png\")\n",
    "\n",
    "src = cv2.imread(\"26_May_2020-700.png\")\n",
    "\n",
    "src = src[::-1]\n",
    "\n",
    "src_mask = np.zeros(src.shape, src.dtype)\n",
    "\n",
    "src_mask = np.zeros(src.shape, src.dtype)\n",
    "\n",
    "poly = np.array([ [ 269 , 24 ], [ 273 , 117 ], [ 301 , 145 ], [ 345 , 199 ], \n",
    "[ 398 , 273 ], [ 428 , 317 ], [ 447 , 278 ], [ 440 , 231 ], [ 487 , 220 ], [ 491 , 202 ],\n",
    "[ 437 , 209 ], [ 415 , 162 ], [ 433 , 126 ], [ 410 , 113 ], [ 360 , 115 ], [ 363 , 73 ], [ 317 , 25 ] ], np.int32)\n",
    "\n",
    "\n",
    "\n",
    "cv2.fillPoly(src_mask, [poly], (255, 255, 255))\n",
    "\n",
    "# This is where the CENTER of the airplane will be placed\n",
    "center = (550,275)\n",
    "\n",
    "# Clone seamlessly.\n",
    "output = cv2.seamlessClone(src, dst, src_mask, center, cv2.NORMAL_CLONE)\n",
    "\n",
    "# Write result\n",
    "cv2.imwrite(\"26_May_2020-700-jungle.png\", output);\n"
   ]
  },
  {
   "cell_type": "code",
   "execution_count": null,
   "metadata": {},
   "outputs": [],
   "source": [
    "from PIL import Image\n",
    "IM = Image.open(\"26_May_2020-700-jungle.png\")\n",
    "IM"
   ]
  },
  {
   "cell_type": "code",
   "execution_count": null,
   "metadata": {},
   "outputs": [],
   "source": [
    "import cv2\n",
    "import numpy as np \n",
    "\n",
    "# Read images\n",
    "#dst = cv2.imread(\"01-ajungle2.jpg\")\n",
    "#dst = cv2.imread(\"/notebooks/edge-preserving-normalized-convolution-filter.jpg\")\n",
    "#src = cv2.imread(\"/notebooks/learnopencv/SeamlessCloning/images/airplane.jpg\")\n",
    "#src = cv2.imread(\"desert-drought.jpg\")\n",
    "dst = cv2.imread(\"26_May_2020-700.png\")\n",
    "\n",
    "src = cv2.imread(\"26_May_2020-700.png\")\n",
    "\n",
    "src = src[::-1]\n",
    "\n",
    "#src = cv2.imread(\"mouse-sizing-n-cropping-files/soil600.jpg\")\n",
    "#dst = cv2.imread(\"mouse-sizing-n-cropping-files/jungle700.jpg\")\n",
    "# Create a rough mask around the airplane.\n",
    "src_mask = np.zeros(src.shape, src.dtype)\n",
    "#poly = np.array([ [4,80], [30,54], [151,63], [254,37], [298,90], [272,134], [43,122] ], np.int32)\n",
    "poly = np.array([ [ 320 , 123 ], [ 437 , 121 ], [ 451 , 267 ], [ 356 , 277 ],[ 321 , 125 ] ], np.int32)\n",
    "#poly = np.array([ [1,100], [1,50], [151,63], [254,37], [298,90], [272,134], [43,122] ], np.int32)\n",
    "#poly = np.array([ [736, 113],[768, 97],[784, 93],[788, 157],[789, 197],[788, 225],[777, 265],[768, 301],[778, 318],\\\n",
    "#[794, 332],[767, 386],[743, 348],[707, 314],[693, 304],[666, 299],[668, 275],[705, 273],[729, 272],\\\n",
    "#[716, 223],[706, 236],[689, 207],[687, 217],[687, 231],[667, 217],[647, 226],[629, 208],[614, 207],\\\n",
    "#[615, 198],[602, 183],[607, 174],[609, 159],[636, 162],[640, 146],[634, 137],[597, 153],[594, 137],\\\n",
    "#[601, 122],[583, 115],[611, 83],[626, 78],[622, 72],[589, 73],[583, 51],[591, 13],[605, 10],[631, 28],\\\n",
    "#[650, 17],[666, 39],[681, 18],[699, 4],[728, 6],[751, 7],[743, 39],[794, 13],[797, 42],[764, 66],\\\n",
    "#[735, 101],[736, 113] ], np.int32)\n",
    "\n",
    "\n",
    "\n",
    "\n",
    "cv2.fillPoly(src_mask, [poly], (255, 255, 255))\n",
    "\n",
    "# This is where the CENTER of the airplane will be placed\n",
    "center = (250,275)\n",
    "\n",
    "# Clone seamlessly.\n",
    "output = cv2.seamlessClone(src, dst, src_mask, center, cv2.NORMAL_CLONE)\n",
    "\n",
    "# Write result\n",
    "cv2.imwrite(\"01-cloning-example3.jpg\", output);\n"
   ]
  },
  {
   "cell_type": "code",
   "execution_count": null,
   "metadata": {},
   "outputs": [],
   "source": [
    "im = Image.open(\"01-cloning-example3.jpg\")\n",
    "im"
   ]
  },
  {
   "cell_type": "markdown",
   "metadata": {},
   "source": [
    "# --------------------------------------------------------"
   ]
  },
  {
   "cell_type": "code",
   "execution_count": 2,
   "metadata": {},
   "outputs": [
    {
     "data": {
      "image/png": "[encoded data removed]",
      "text/html": [
       "\n",
       "\n",
       "<style>\n",
       "\n",
       "</style>\n",
       "\n",
       "<div id=\"fig_el192961402642993260325077425415\"></div>\n",
       "<script>\n",
       "function mpld3_load_lib(url, callback){\n",
       "  var s = document.createElement('script');\n",
       "  s.src = url;\n",
       "  s.async = true;\n",
       "  s.onreadystatechange = s.onload = callback;\n",
       "  s.onerror = function(){console.warn(\"failed to load library \" + url);};\n",
       "  document.getElementsByTagName(\"head\")[0].appendChild(s);\n",
       "}\n",
       "\n",
       "if(typeof(mpld3) !== \"undefined\" && mpld3._mpld3IsLoaded){\n",
       "   // already loaded: just create the figure\n",
       "   !function(mpld3){\n",
       "       \n",
       "       mpld3.draw_figure(\"fig_el192961402642993260325077425415\", {\"width\": 432.0, \"height\": 288.0, \"axes\": [{\"bbox\": [0.125, 0.125, 0.775, 0.755], \"xlim\": [-2.1190328360896427, 1.9151301221109396], \"ylim\": [-2.669323670544337, 2.061703627805045], \"xdomain\": [-2.1190328360896427, 1.9151301221109396], \"ydomain\": [-2.669323670544337, 2.061703627805045], \"xscale\": \"linear\", \"yscale\": \"linear\", \"axes\": [{\"position\": \"bottom\", \"nticks\": 10, \"tickvalues\": null, \"tickformat\": null, \"scale\": \"linear\", \"fontsize\": 10.0, \"grid\": {\"gridOn\": true, \"color\": \"#FFFFFF\", \"dasharray\": \"none\", \"alpha\": 1.0}, \"visible\": true}, {\"position\": \"left\", \"nticks\": 7, \"tickvalues\": null, \"tickformat\": null, \"scale\": \"linear\", \"fontsize\": 10.0, \"grid\": {\"gridOn\": true, \"color\": \"#FFFFFF\", \"dasharray\": \"none\", \"alpha\": 1.0}, \"visible\": true}], \"axesbg\": \"#EEEEEE\", \"axesbgalpha\": null, \"zoomable\": true, \"id\": \"el19296140264304279184\", \"lines\": [], \"paths\": [], \"markers\": [], \"texts\": [{\"text\": \"D3 Scatter Plot (with tooltips!)\", \"position\": [0.49999999999999994, 1.0275938189845473], \"coordinates\": \"axes\", \"h_anchor\": \"middle\", \"v_baseline\": \"auto\", \"rotation\": -0.0, \"fontsize\": 20.0, \"color\": \"#000000\", \"alpha\": 1, \"zorder\": 3, \"id\": \"el19296140264299096144\"}], \"collections\": [{\"offsets\": \"data01\", \"xindex\": 0, \"yindex\": 1, \"paths\": [[[[0.0, -0.5], [0.13260155, -0.5], [0.25978993539242673, -0.44731684579412084], [0.3535533905932738, -0.3535533905932738], [0.44731684579412084, -0.25978993539242673], [0.5, -0.13260155], [0.5, 0.0], [0.5, 0.13260155], [0.44731684579412084, 0.25978993539242673], [0.3535533905932738, 0.3535533905932738], [0.25978993539242673, 0.44731684579412084], [0.13260155, 0.5], [0.0, 0.5], [-0.13260155, 0.5], [-0.25978993539242673, 0.44731684579412084], [-0.3535533905932738, 0.3535533905932738], [-0.44731684579412084, 0.25978993539242673], [-0.5, 0.13260155], [-0.5, 0.0], [-0.5, -0.13260155], [-0.44731684579412084, -0.25978993539242673], [-0.3535533905932738, -0.3535533905932738], [-0.25978993539242673, -0.44731684579412084], [-0.13260155, -0.5], [0.0, -0.5]], [\"M\", \"C\", \"C\", \"C\", \"C\", \"C\", \"C\", \"C\", \"C\", \"Z\"]]], \"pathtransforms\": [[27.64325573119048, 0.0, 0.0, 27.64325573119048, 0.0, 0.0], [16.94099849938922, 0.0, 0.0, 16.94099849938922, 0.0, 0.0], [30.769391533525564, 0.0, 0.0, 30.769391533525564, 0.0, 0.0], [14.353077516114162, 0.0, 0.0, 14.353077516114162, 0.0, 0.0], [22.884268533933632, 0.0, 0.0, 22.884268533933632, 0.0, 0.0], [10.54292004575846, 0.0, 0.0, 10.54292004575846, 0.0, 0.0], [9.352240363620085, 0.0, 0.0, 9.352240363620085, 0.0, 0.0], [9.56623665349796, 0.0, 0.0, 9.56623665349796, 0.0, 0.0], [19.276355121128468, 0.0, 0.0, 19.276355121128468, 0.0, 0.0], [26.885897036498513, 0.0, 0.0, 26.885897036498513, 0.0, 0.0], [4.990467077898551, 0.0, 0.0, 4.990467077898551, 0.0, 0.0], [18.357308496872076, 0.0, 0.0, 18.357308496872076, 0.0, 0.0], [21.089961484902602, 0.0, 0.0, 21.089961484902602, 0.0, 0.0], [28.750251485590045, 0.0, 0.0, 28.750251485590045, 0.0, 0.0], [22.976924785193695, 0.0, 0.0, 22.976924785193695, 0.0, 0.0], [17.78730596965211, 0.0, 0.0, 17.78730596965211, 0.0, 0.0], [28.9387154378778, 0.0, 0.0, 28.9387154378778, 0.0, 0.0], [28.23052871708018, 0.0, 0.0, 28.23052871708018, 0.0, 0.0], [25.284919999196386, 0.0, 0.0, 25.284919999196386, 0.0, 0.0], [7.802088687940067, 0.0, 0.0, 7.802088687940067, 0.0, 0.0], [26.9261126187344, 0.0, 0.0, 26.9261126187344, 0.0, 0.0], [15.177842246754558, 0.0, 0.0, 15.177842246754558, 0.0, 0.0], [25.38942586676871, 0.0, 0.0, 25.38942586676871, 0.0, 0.0], [28.149066278555793, 0.0, 0.0, 28.149066278555793, 0.0, 0.0], [24.83674228810354, 0.0, 0.0, 24.83674228810354, 0.0, 0.0], [24.379636116764683, 0.0, 0.0, 24.379636116764683, 0.0, 0.0], [15.973302919302844, 0.0, 0.0, 15.973302919302844, 0.0, 0.0], [24.758929917852697, 0.0, 0.0, 24.758929917852697, 0.0, 0.0], [28.55547229029618, 0.0, 0.0, 28.55547229029618, 0.0, 0.0], [28.532195859725626, 0.0, 0.0, 28.532195859725626, 0.0, 0.0], [26.187409378972806, 0.0, 0.0, 26.187409378972806, 0.0, 0.0], [17.7363222328843, 0.0, 0.0, 17.7363222328843, 0.0, 0.0], [12.957144344403503, 0.0, 0.0, 12.957144344403503, 0.0, 0.0], [30.42197461130583, 0.0, 0.0, 30.42197461130583, 0.0, 0.0], [29.563547810611006, 0.0, 0.0, 29.563547810611006, 0.0, 0.0], [15.695745781681657, 0.0, 0.0, 15.695745781681657, 0.0, 0.0], [30.924108178918928, 0.0, 0.0, 30.924108178918928, 0.0, 0.0], [18.140041130449923, 0.0, 0.0, 18.140041130449923, 0.0, 0.0], [28.59864178478224, 0.0, 0.0, 28.59864178478224, 0.0, 0.0], [28.594650381561564, 0.0, 0.0, 28.594650381561564, 0.0, 0.0], [30.93102151072174, 0.0, 0.0, 30.93102151072174, 0.0, 0.0], [23.75399260895258, 0.0, 0.0, 23.75399260895258, 0.0, 0.0], [17.76640588706901, 0.0, 0.0, 17.76640588706901, 0.0, 0.0], [22.98722706063888, 0.0, 0.0, 22.98722706063888, 0.0, 0.0], [23.488706830628455, 0.0, 0.0, 23.488706830628455, 0.0, 0.0], [22.965838377315404, 0.0, 0.0, 22.965838377315404, 0.0, 0.0], [24.48085413012526, 0.0, 0.0, 24.48085413012526, 0.0, 0.0], [29.020919847583272, 0.0, 0.0, 29.020919847583272, 0.0, 0.0], [24.803265174625846, 0.0, 0.0, 24.803265174625846, 0.0, 0.0], [16.35529903573604, 0.0, 0.0, 16.35529903573604, 0.0, 0.0]], \"alphas\": [0.3], \"edgecolors\": [\"#E0FF15\", \"#0088FF\", \"#0000A8\", \"#53FFA3\", \"#FF5100\", \"#BF0000\", \"#0CF4EA\", \"#0028FF\", \"#0000F1\", \"#15FFE1\", \"#F1FC05\", \"#00007F\", \"#0038FF\", \"#FF6F00\", \"#FA0F00\", \"#0064FF\", \"#0094FF\", \"#FFE200\", \"#FFB500\", \"#DA0000\", \"#1CFFDA\", \"#E7FF0F\", \"#004CFF\", \"#0000D5\", \"#56FFA0\", \"#66FF90\", \"#7F0000\", \"#FFB900\", \"#15FFE1\", \"#00CCFF\", \"#32FFC3\", \"#0070FF\", \"#D0FF25\", \"#B0FF46\", \"#7F0000\", \"#002CFF\", \"#12FCE4\", \"#007CFF\", \"#BDFF39\", \"#BF0000\", \"#ADFF49\", \"#FF9B00\", \"#910000\", \"#0094FF\", \"#2CFFCA\", \"#FF7300\", \"#0048FF\", \"#0000BF\", \"#EAFF0C\", \"#32FFC3\"], \"facecolors\": [\"#E0FF15\", \"#0088FF\", \"#0000A8\", \"#53FFA3\", \"#FF5100\", \"#BF0000\", \"#0CF4EA\", \"#0028FF\", \"#0000F1\", \"#15FFE1\", \"#F1FC05\", \"#00007F\", \"#0038FF\", \"#FF6F00\", \"#FA0F00\", \"#0064FF\", \"#0094FF\", \"#FFE200\", \"#FFB500\", \"#DA0000\", \"#1CFFDA\", \"#E7FF0F\", \"#004CFF\", \"#0000D5\", \"#56FFA0\", \"#66FF90\", \"#7F0000\", \"#FFB900\", \"#15FFE1\", \"#00CCFF\", \"#32FFC3\", \"#0070FF\", \"#D0FF25\", \"#B0FF46\", \"#7F0000\", \"#002CFF\", \"#12FCE4\", \"#007CFF\", \"#BDFF39\", \"#BF0000\", \"#ADFF49\", \"#FF9B00\", \"#910000\", \"#0094FF\", \"#2CFFCA\", \"#FF7300\", \"#0048FF\", \"#0000BF\", \"#EAFF0C\", \"#32FFC3\"], \"edgewidths\": [1.0], \"offsetcoordinates\": \"data\", \"pathcoordinates\": \"display\", \"zorder\": 1, \"id\": \"el19296140264360984720\"}], \"images\": [], \"sharex\": [], \"sharey\": []}], \"data\": {\"data01\": [[0.22549517738376476, 0.12204210409534078], [-0.8527293121954258, -0.013269884156519448], [0.24260857355792603, -0.0007373721268914832], [-0.8210689488787509, -0.710203703282347], [0.9456701199370309, 0.9876899773411012], [0.8248622983890015, 0.0015763991885723912], [-0.7436612011414856, -1.2391405144862764], [0.4051871231865284, 0.6613897605180789], [-0.31829734591733516, 0.18528743352984012], [0.23246324456692483, 0.4298935818598848], [-0.827251512631429, 0.967883389916109], [1.3176648510285773, 1.8044445784500123], [1.005960408767862, 0.6009494453212499], [-0.6275761490058823, -1.2667282727405], [-0.8400219944455738, 1.2316740027549735], [-0.5528665330885897, -2.0873443854066736], [-0.7757486370290176, 0.7712136476602846], [1.12648560504146, -0.47923965888082776], [-0.027689437126266817, -2.396134683040104], [-0.11459444356013841, -1.0371507824404111], [-1.1251960544765849, 0.027047736564076618], [-1.5000470207032512, -0.2612132856236398], [-1.1659038804739639, -1.0123094157051684], [-0.8494193473733895, 1.0333614258951835], [-0.44926907698443697, 0.7845600429092413], [0.8977875466185172, 0.4195307273564839], [0.11446151541705435, -0.25345952902769814], [0.2853055825489987, -0.5636860963938456], [-0.19151268696585194, 0.41519673498283166], [-1.1342574095910292, 1.131061758863061], [0.16428643973305665, 1.3976375760441315], [-0.08465820593068778, -1.7110668474062718], [1.4618268791351887, 1.4496750655866313], [-0.06486938476802305, 0.4503769409100631], [-1.8915107354702394, -0.33514061010540086], [1.286933262781857, -1.4341944607554453], [0.15285173805961366, 1.2166488154534874], [0.06170839507716035, -0.5541784114155618], [0.8268050577937051, -1.9302678963277955], [0.8309043670126016, -1.0859412305673932], [0.9549456319300945, 1.0706803599519428], [1.0434958603163753, -0.7751151966319508], [-0.5581189495508349, 0.37832236668012875], [0.8458482711547425, -0.3836743711880552], [0.7708770542673304, 0.6830194435471765], [-0.5330995486776434, 1.4771618267477704], [1.4866224875614686, 0.9875092433768528], [0.09879182382985872, 0.4850691273082117], [1.6947171652131392, -0.05691746902721455], [1.4309407982844389, -0.5863058878658436]]}, \"id\": \"el19296140264299326032\", \"plugins\": [{\"type\": \"reset\"}, {\"type\": \"zoom\", \"button\": true, \"enabled\": false}, {\"type\": \"boxzoom\", \"button\": true, \"enabled\": false}]});\n",
       "   }(mpld3);\n",
       "}else if(typeof define === \"function\" && define.amd){\n",
       "   // require.js is available: use it to load d3/mpld3\n",
       "   require.config({paths: {d3: \"https://mpld3.github.io/js/d3.v3.min\"}});\n",
       "   require([\"d3\"], function(d3){\n",
       "      window.d3 = d3;\n",
       "      mpld3_load_lib(\"https://mpld3.github.io/js/mpld3.v0.3.js\", function(){\n",
       "         \n",
       "         mpld3.draw_figure(\"fig_el192961402642993260325077425415\", {\"width\": 432.0, \"height\": 288.0, \"axes\": [{\"bbox\": [0.125, 0.125, 0.775, 0.755], \"xlim\": [-2.1190328360896427, 1.9151301221109396], \"ylim\": [-2.669323670544337, 2.061703627805045], \"xdomain\": [-2.1190328360896427, 1.9151301221109396], \"ydomain\": [-2.669323670544337, 2.061703627805045], \"xscale\": \"linear\", \"yscale\": \"linear\", \"axes\": [{\"position\": \"bottom\", \"nticks\": 10, \"tickvalues\": null, \"tickformat\": null, \"scale\": \"linear\", \"fontsize\": 10.0, \"grid\": {\"gridOn\": true, \"color\": \"#FFFFFF\", \"dasharray\": \"none\", \"alpha\": 1.0}, \"visible\": true}, {\"position\": \"left\", \"nticks\": 7, \"tickvalues\": null, \"tickformat\": null, \"scale\": \"linear\", \"fontsize\": 10.0, \"grid\": {\"gridOn\": true, \"color\": \"#FFFFFF\", \"dasharray\": \"none\", \"alpha\": 1.0}, \"visible\": true}], \"axesbg\": \"#EEEEEE\", \"axesbgalpha\": null, \"zoomable\": true, \"id\": \"el19296140264304279184\", \"lines\": [], \"paths\": [], \"markers\": [], \"texts\": [{\"text\": \"D3 Scatter Plot (with tooltips!)\", \"position\": [0.49999999999999994, 1.0275938189845473], \"coordinates\": \"axes\", \"h_anchor\": \"middle\", \"v_baseline\": \"auto\", \"rotation\": -0.0, \"fontsize\": 20.0, \"color\": \"#000000\", \"alpha\": 1, \"zorder\": 3, \"id\": \"el19296140264299096144\"}], \"collections\": [{\"offsets\": \"data01\", \"xindex\": 0, \"yindex\": 1, \"paths\": [[[[0.0, -0.5], [0.13260155, -0.5], [0.25978993539242673, -0.44731684579412084], [0.3535533905932738, -0.3535533905932738], [0.44731684579412084, -0.25978993539242673], [0.5, -0.13260155], [0.5, 0.0], [0.5, 0.13260155], [0.44731684579412084, 0.25978993539242673], [0.3535533905932738, 0.3535533905932738], [0.25978993539242673, 0.44731684579412084], [0.13260155, 0.5], [0.0, 0.5], [-0.13260155, 0.5], [-0.25978993539242673, 0.44731684579412084], [-0.3535533905932738, 0.3535533905932738], [-0.44731684579412084, 0.25978993539242673], [-0.5, 0.13260155], [-0.5, 0.0], [-0.5, -0.13260155], [-0.44731684579412084, -0.25978993539242673], [-0.3535533905932738, -0.3535533905932738], [-0.25978993539242673, -0.44731684579412084], [-0.13260155, -0.5], [0.0, -0.5]], [\"M\", \"C\", \"C\", \"C\", \"C\", \"C\", \"C\", \"C\", \"C\", \"Z\"]]], \"pathtransforms\": [[27.64325573119048, 0.0, 0.0, 27.64325573119048, 0.0, 0.0], [16.94099849938922, 0.0, 0.0, 16.94099849938922, 0.0, 0.0], [30.769391533525564, 0.0, 0.0, 30.769391533525564, 0.0, 0.0], [14.353077516114162, 0.0, 0.0, 14.353077516114162, 0.0, 0.0], [22.884268533933632, 0.0, 0.0, 22.884268533933632, 0.0, 0.0], [10.54292004575846, 0.0, 0.0, 10.54292004575846, 0.0, 0.0], [9.352240363620085, 0.0, 0.0, 9.352240363620085, 0.0, 0.0], [9.56623665349796, 0.0, 0.0, 9.56623665349796, 0.0, 0.0], [19.276355121128468, 0.0, 0.0, 19.276355121128468, 0.0, 0.0], [26.885897036498513, 0.0, 0.0, 26.885897036498513, 0.0, 0.0], [4.990467077898551, 0.0, 0.0, 4.990467077898551, 0.0, 0.0], [18.357308496872076, 0.0, 0.0, 18.357308496872076, 0.0, 0.0], [21.089961484902602, 0.0, 0.0, 21.089961484902602, 0.0, 0.0], [28.750251485590045, 0.0, 0.0, 28.750251485590045, 0.0, 0.0], [22.976924785193695, 0.0, 0.0, 22.976924785193695, 0.0, 0.0], [17.78730596965211, 0.0, 0.0, 17.78730596965211, 0.0, 0.0], [28.9387154378778, 0.0, 0.0, 28.9387154378778, 0.0, 0.0], [28.23052871708018, 0.0, 0.0, 28.23052871708018, 0.0, 0.0], [25.284919999196386, 0.0, 0.0, 25.284919999196386, 0.0, 0.0], [7.802088687940067, 0.0, 0.0, 7.802088687940067, 0.0, 0.0], [26.9261126187344, 0.0, 0.0, 26.9261126187344, 0.0, 0.0], [15.177842246754558, 0.0, 0.0, 15.177842246754558, 0.0, 0.0], [25.38942586676871, 0.0, 0.0, 25.38942586676871, 0.0, 0.0], [28.149066278555793, 0.0, 0.0, 28.149066278555793, 0.0, 0.0], [24.83674228810354, 0.0, 0.0, 24.83674228810354, 0.0, 0.0], [24.379636116764683, 0.0, 0.0, 24.379636116764683, 0.0, 0.0], [15.973302919302844, 0.0, 0.0, 15.973302919302844, 0.0, 0.0], [24.758929917852697, 0.0, 0.0, 24.758929917852697, 0.0, 0.0], [28.55547229029618, 0.0, 0.0, 28.55547229029618, 0.0, 0.0], [28.532195859725626, 0.0, 0.0, 28.532195859725626, 0.0, 0.0], [26.187409378972806, 0.0, 0.0, 26.187409378972806, 0.0, 0.0], [17.7363222328843, 0.0, 0.0, 17.7363222328843, 0.0, 0.0], [12.957144344403503, 0.0, 0.0, 12.957144344403503, 0.0, 0.0], [30.42197461130583, 0.0, 0.0, 30.42197461130583, 0.0, 0.0], [29.563547810611006, 0.0, 0.0, 29.563547810611006, 0.0, 0.0], [15.695745781681657, 0.0, 0.0, 15.695745781681657, 0.0, 0.0], [30.924108178918928, 0.0, 0.0, 30.924108178918928, 0.0, 0.0], [18.140041130449923, 0.0, 0.0, 18.140041130449923, 0.0, 0.0], [28.59864178478224, 0.0, 0.0, 28.59864178478224, 0.0, 0.0], [28.594650381561564, 0.0, 0.0, 28.594650381561564, 0.0, 0.0], [30.93102151072174, 0.0, 0.0, 30.93102151072174, 0.0, 0.0], [23.75399260895258, 0.0, 0.0, 23.75399260895258, 0.0, 0.0], [17.76640588706901, 0.0, 0.0, 17.76640588706901, 0.0, 0.0], [22.98722706063888, 0.0, 0.0, 22.98722706063888, 0.0, 0.0], [23.488706830628455, 0.0, 0.0, 23.488706830628455, 0.0, 0.0], [22.965838377315404, 0.0, 0.0, 22.965838377315404, 0.0, 0.0], [24.48085413012526, 0.0, 0.0, 24.48085413012526, 0.0, 0.0], [29.020919847583272, 0.0, 0.0, 29.020919847583272, 0.0, 0.0], [24.803265174625846, 0.0, 0.0, 24.803265174625846, 0.0, 0.0], [16.35529903573604, 0.0, 0.0, 16.35529903573604, 0.0, 0.0]], \"alphas\": [0.3], \"edgecolors\": [\"#E0FF15\", \"#0088FF\", \"#0000A8\", \"#53FFA3\", \"#FF5100\", \"#BF0000\", \"#0CF4EA\", \"#0028FF\", \"#0000F1\", \"#15FFE1\", \"#F1FC05\", \"#00007F\", \"#0038FF\", \"#FF6F00\", \"#FA0F00\", \"#0064FF\", \"#0094FF\", \"#FFE200\", \"#FFB500\", \"#DA0000\", \"#1CFFDA\", \"#E7FF0F\", \"#004CFF\", \"#0000D5\", \"#56FFA0\", \"#66FF90\", \"#7F0000\", \"#FFB900\", \"#15FFE1\", \"#00CCFF\", \"#32FFC3\", \"#0070FF\", \"#D0FF25\", \"#B0FF46\", \"#7F0000\", \"#002CFF\", \"#12FCE4\", \"#007CFF\", \"#BDFF39\", \"#BF0000\", \"#ADFF49\", \"#FF9B00\", \"#910000\", \"#0094FF\", \"#2CFFCA\", \"#FF7300\", \"#0048FF\", \"#0000BF\", \"#EAFF0C\", \"#32FFC3\"], \"facecolors\": [\"#E0FF15\", \"#0088FF\", \"#0000A8\", \"#53FFA3\", \"#FF5100\", \"#BF0000\", \"#0CF4EA\", \"#0028FF\", \"#0000F1\", \"#15FFE1\", \"#F1FC05\", \"#00007F\", \"#0038FF\", \"#FF6F00\", \"#FA0F00\", \"#0064FF\", \"#0094FF\", \"#FFE200\", \"#FFB500\", \"#DA0000\", \"#1CFFDA\", \"#E7FF0F\", \"#004CFF\", \"#0000D5\", \"#56FFA0\", \"#66FF90\", \"#7F0000\", \"#FFB900\", \"#15FFE1\", \"#00CCFF\", \"#32FFC3\", \"#0070FF\", \"#D0FF25\", \"#B0FF46\", \"#7F0000\", \"#002CFF\", \"#12FCE4\", \"#007CFF\", \"#BDFF39\", \"#BF0000\", \"#ADFF49\", \"#FF9B00\", \"#910000\", \"#0094FF\", \"#2CFFCA\", \"#FF7300\", \"#0048FF\", \"#0000BF\", \"#EAFF0C\", \"#32FFC3\"], \"edgewidths\": [1.0], \"offsetcoordinates\": \"data\", \"pathcoordinates\": \"display\", \"zorder\": 1, \"id\": \"el19296140264360984720\"}], \"images\": [], \"sharex\": [], \"sharey\": []}], \"data\": {\"data01\": [[0.22549517738376476, 0.12204210409534078], [-0.8527293121954258, -0.013269884156519448], [0.24260857355792603, -0.0007373721268914832], [-0.8210689488787509, -0.710203703282347], [0.9456701199370309, 0.9876899773411012], [0.8248622983890015, 0.0015763991885723912], [-0.7436612011414856, -1.2391405144862764], [0.4051871231865284, 0.6613897605180789], [-0.31829734591733516, 0.18528743352984012], [0.23246324456692483, 0.4298935818598848], [-0.827251512631429, 0.967883389916109], [1.3176648510285773, 1.8044445784500123], [1.005960408767862, 0.6009494453212499], [-0.6275761490058823, -1.2667282727405], [-0.8400219944455738, 1.2316740027549735], [-0.5528665330885897, -2.0873443854066736], [-0.7757486370290176, 0.7712136476602846], [1.12648560504146, -0.47923965888082776], [-0.027689437126266817, -2.396134683040104], [-0.11459444356013841, -1.0371507824404111], [-1.1251960544765849, 0.027047736564076618], [-1.5000470207032512, -0.2612132856236398], [-1.1659038804739639, -1.0123094157051684], [-0.8494193473733895, 1.0333614258951835], [-0.44926907698443697, 0.7845600429092413], [0.8977875466185172, 0.4195307273564839], [0.11446151541705435, -0.25345952902769814], [0.2853055825489987, -0.5636860963938456], [-0.19151268696585194, 0.41519673498283166], [-1.1342574095910292, 1.131061758863061], [0.16428643973305665, 1.3976375760441315], [-0.08465820593068778, -1.7110668474062718], [1.4618268791351887, 1.4496750655866313], [-0.06486938476802305, 0.4503769409100631], [-1.8915107354702394, -0.33514061010540086], [1.286933262781857, -1.4341944607554453], [0.15285173805961366, 1.2166488154534874], [0.06170839507716035, -0.5541784114155618], [0.8268050577937051, -1.9302678963277955], [0.8309043670126016, -1.0859412305673932], [0.9549456319300945, 1.0706803599519428], [1.0434958603163753, -0.7751151966319508], [-0.5581189495508349, 0.37832236668012875], [0.8458482711547425, -0.3836743711880552], [0.7708770542673304, 0.6830194435471765], [-0.5330995486776434, 1.4771618267477704], [1.4866224875614686, 0.9875092433768528], [0.09879182382985872, 0.4850691273082117], [1.6947171652131392, -0.05691746902721455], [1.4309407982844389, -0.5863058878658436]]}, \"id\": \"el19296140264299326032\", \"plugins\": [{\"type\": \"reset\"}, {\"type\": \"zoom\", \"button\": true, \"enabled\": false}, {\"type\": \"boxzoom\", \"button\": true, \"enabled\": false}]});\n",
       "      });\n",
       "    });\n",
       "}else{\n",
       "    // require.js not available: dynamically load d3 & mpld3\n",
       "    mpld3_load_lib(\"https://mpld3.github.io/js/d3.v3.min.js\", function(){\n",
       "         mpld3_load_lib(\"https://mpld3.github.io/js/mpld3.v0.3.js\", function(){\n",
       "                 \n",
       "                 mpld3.draw_figure(\"fig_el192961402642993260325077425415\", {\"width\": 432.0, \"height\": 288.0, \"axes\": [{\"bbox\": [0.125, 0.125, 0.775, 0.755], \"xlim\": [-2.1190328360896427, 1.9151301221109396], \"ylim\": [-2.669323670544337, 2.061703627805045], \"xdomain\": [-2.1190328360896427, 1.9151301221109396], \"ydomain\": [-2.669323670544337, 2.061703627805045], \"xscale\": \"linear\", \"yscale\": \"linear\", \"axes\": [{\"position\": \"bottom\", \"nticks\": 10, \"tickvalues\": null, \"tickformat\": null, \"scale\": \"linear\", \"fontsize\": 10.0, \"grid\": {\"gridOn\": true, \"color\": \"#FFFFFF\", \"dasharray\": \"none\", \"alpha\": 1.0}, \"visible\": true}, {\"position\": \"left\", \"nticks\": 7, \"tickvalues\": null, \"tickformat\": null, \"scale\": \"linear\", \"fontsize\": 10.0, \"grid\": {\"gridOn\": true, \"color\": \"#FFFFFF\", \"dasharray\": \"none\", \"alpha\": 1.0}, \"visible\": true}], \"axesbg\": \"#EEEEEE\", \"axesbgalpha\": null, \"zoomable\": true, \"id\": \"el19296140264304279184\", \"lines\": [], \"paths\": [], \"markers\": [], \"texts\": [{\"text\": \"D3 Scatter Plot (with tooltips!)\", \"position\": [0.49999999999999994, 1.0275938189845473], \"coordinates\": \"axes\", \"h_anchor\": \"middle\", \"v_baseline\": \"auto\", \"rotation\": -0.0, \"fontsize\": 20.0, \"color\": \"#000000\", \"alpha\": 1, \"zorder\": 3, \"id\": \"el19296140264299096144\"}], \"collections\": [{\"offsets\": \"data01\", \"xindex\": 0, \"yindex\": 1, \"paths\": [[[[0.0, -0.5], [0.13260155, -0.5], [0.25978993539242673, -0.44731684579412084], [0.3535533905932738, -0.3535533905932738], [0.44731684579412084, -0.25978993539242673], [0.5, -0.13260155], [0.5, 0.0], [0.5, 0.13260155], [0.44731684579412084, 0.25978993539242673], [0.3535533905932738, 0.3535533905932738], [0.25978993539242673, 0.44731684579412084], [0.13260155, 0.5], [0.0, 0.5], [-0.13260155, 0.5], [-0.25978993539242673, 0.44731684579412084], [-0.3535533905932738, 0.3535533905932738], [-0.44731684579412084, 0.25978993539242673], [-0.5, 0.13260155], [-0.5, 0.0], [-0.5, -0.13260155], [-0.44731684579412084, -0.25978993539242673], [-0.3535533905932738, -0.3535533905932738], [-0.25978993539242673, -0.44731684579412084], [-0.13260155, -0.5], [0.0, -0.5]], [\"M\", \"C\", \"C\", \"C\", \"C\", \"C\", \"C\", \"C\", \"C\", \"Z\"]]], \"pathtransforms\": [[27.64325573119048, 0.0, 0.0, 27.64325573119048, 0.0, 0.0], [16.94099849938922, 0.0, 0.0, 16.94099849938922, 0.0, 0.0], [30.769391533525564, 0.0, 0.0, 30.769391533525564, 0.0, 0.0], [14.353077516114162, 0.0, 0.0, 14.353077516114162, 0.0, 0.0], [22.884268533933632, 0.0, 0.0, 22.884268533933632, 0.0, 0.0], [10.54292004575846, 0.0, 0.0, 10.54292004575846, 0.0, 0.0], [9.352240363620085, 0.0, 0.0, 9.352240363620085, 0.0, 0.0], [9.56623665349796, 0.0, 0.0, 9.56623665349796, 0.0, 0.0], [19.276355121128468, 0.0, 0.0, 19.276355121128468, 0.0, 0.0], [26.885897036498513, 0.0, 0.0, 26.885897036498513, 0.0, 0.0], [4.990467077898551, 0.0, 0.0, 4.990467077898551, 0.0, 0.0], [18.357308496872076, 0.0, 0.0, 18.357308496872076, 0.0, 0.0], [21.089961484902602, 0.0, 0.0, 21.089961484902602, 0.0, 0.0], [28.750251485590045, 0.0, 0.0, 28.750251485590045, 0.0, 0.0], [22.976924785193695, 0.0, 0.0, 22.976924785193695, 0.0, 0.0], [17.78730596965211, 0.0, 0.0, 17.78730596965211, 0.0, 0.0], [28.9387154378778, 0.0, 0.0, 28.9387154378778, 0.0, 0.0], [28.23052871708018, 0.0, 0.0, 28.23052871708018, 0.0, 0.0], [25.284919999196386, 0.0, 0.0, 25.284919999196386, 0.0, 0.0], [7.802088687940067, 0.0, 0.0, 7.802088687940067, 0.0, 0.0], [26.9261126187344, 0.0, 0.0, 26.9261126187344, 0.0, 0.0], [15.177842246754558, 0.0, 0.0, 15.177842246754558, 0.0, 0.0], [25.38942586676871, 0.0, 0.0, 25.38942586676871, 0.0, 0.0], [28.149066278555793, 0.0, 0.0, 28.149066278555793, 0.0, 0.0], [24.83674228810354, 0.0, 0.0, 24.83674228810354, 0.0, 0.0], [24.379636116764683, 0.0, 0.0, 24.379636116764683, 0.0, 0.0], [15.973302919302844, 0.0, 0.0, 15.973302919302844, 0.0, 0.0], [24.758929917852697, 0.0, 0.0, 24.758929917852697, 0.0, 0.0], [28.55547229029618, 0.0, 0.0, 28.55547229029618, 0.0, 0.0], [28.532195859725626, 0.0, 0.0, 28.532195859725626, 0.0, 0.0], [26.187409378972806, 0.0, 0.0, 26.187409378972806, 0.0, 0.0], [17.7363222328843, 0.0, 0.0, 17.7363222328843, 0.0, 0.0], [12.957144344403503, 0.0, 0.0, 12.957144344403503, 0.0, 0.0], [30.42197461130583, 0.0, 0.0, 30.42197461130583, 0.0, 0.0], [29.563547810611006, 0.0, 0.0, 29.563547810611006, 0.0, 0.0], [15.695745781681657, 0.0, 0.0, 15.695745781681657, 0.0, 0.0], [30.924108178918928, 0.0, 0.0, 30.924108178918928, 0.0, 0.0], [18.140041130449923, 0.0, 0.0, 18.140041130449923, 0.0, 0.0], [28.59864178478224, 0.0, 0.0, 28.59864178478224, 0.0, 0.0], [28.594650381561564, 0.0, 0.0, 28.594650381561564, 0.0, 0.0], [30.93102151072174, 0.0, 0.0, 30.93102151072174, 0.0, 0.0], [23.75399260895258, 0.0, 0.0, 23.75399260895258, 0.0, 0.0], [17.76640588706901, 0.0, 0.0, 17.76640588706901, 0.0, 0.0], [22.98722706063888, 0.0, 0.0, 22.98722706063888, 0.0, 0.0], [23.488706830628455, 0.0, 0.0, 23.488706830628455, 0.0, 0.0], [22.965838377315404, 0.0, 0.0, 22.965838377315404, 0.0, 0.0], [24.48085413012526, 0.0, 0.0, 24.48085413012526, 0.0, 0.0], [29.020919847583272, 0.0, 0.0, 29.020919847583272, 0.0, 0.0], [24.803265174625846, 0.0, 0.0, 24.803265174625846, 0.0, 0.0], [16.35529903573604, 0.0, 0.0, 16.35529903573604, 0.0, 0.0]], \"alphas\": [0.3], \"edgecolors\": [\"#E0FF15\", \"#0088FF\", \"#0000A8\", \"#53FFA3\", \"#FF5100\", \"#BF0000\", \"#0CF4EA\", \"#0028FF\", \"#0000F1\", \"#15FFE1\", \"#F1FC05\", \"#00007F\", \"#0038FF\", \"#FF6F00\", \"#FA0F00\", \"#0064FF\", \"#0094FF\", \"#FFE200\", \"#FFB500\", \"#DA0000\", \"#1CFFDA\", \"#E7FF0F\", \"#004CFF\", \"#0000D5\", \"#56FFA0\", \"#66FF90\", \"#7F0000\", \"#FFB900\", \"#15FFE1\", \"#00CCFF\", \"#32FFC3\", \"#0070FF\", \"#D0FF25\", \"#B0FF46\", \"#7F0000\", \"#002CFF\", \"#12FCE4\", \"#007CFF\", \"#BDFF39\", \"#BF0000\", \"#ADFF49\", \"#FF9B00\", \"#910000\", \"#0094FF\", \"#2CFFCA\", \"#FF7300\", \"#0048FF\", \"#0000BF\", \"#EAFF0C\", \"#32FFC3\"], \"facecolors\": [\"#E0FF15\", \"#0088FF\", \"#0000A8\", \"#53FFA3\", \"#FF5100\", \"#BF0000\", \"#0CF4EA\", \"#0028FF\", \"#0000F1\", \"#15FFE1\", \"#F1FC05\", \"#00007F\", \"#0038FF\", \"#FF6F00\", \"#FA0F00\", \"#0064FF\", \"#0094FF\", \"#FFE200\", \"#FFB500\", \"#DA0000\", \"#1CFFDA\", \"#E7FF0F\", \"#004CFF\", \"#0000D5\", \"#56FFA0\", \"#66FF90\", \"#7F0000\", \"#FFB900\", \"#15FFE1\", \"#00CCFF\", \"#32FFC3\", \"#0070FF\", \"#D0FF25\", \"#B0FF46\", \"#7F0000\", \"#002CFF\", \"#12FCE4\", \"#007CFF\", \"#BDFF39\", \"#BF0000\", \"#ADFF49\", \"#FF9B00\", \"#910000\", \"#0094FF\", \"#2CFFCA\", \"#FF7300\", \"#0048FF\", \"#0000BF\", \"#EAFF0C\", \"#32FFC3\"], \"edgewidths\": [1.0], \"offsetcoordinates\": \"data\", \"pathcoordinates\": \"display\", \"zorder\": 1, \"id\": \"el19296140264360984720\"}], \"images\": [], \"sharex\": [], \"sharey\": []}], \"data\": {\"data01\": [[0.22549517738376476, 0.12204210409534078], [-0.8527293121954258, -0.013269884156519448], [0.24260857355792603, -0.0007373721268914832], [-0.8210689488787509, -0.710203703282347], [0.9456701199370309, 0.9876899773411012], [0.8248622983890015, 0.0015763991885723912], [-0.7436612011414856, -1.2391405144862764], [0.4051871231865284, 0.6613897605180789], [-0.31829734591733516, 0.18528743352984012], [0.23246324456692483, 0.4298935818598848], [-0.827251512631429, 0.967883389916109], [1.3176648510285773, 1.8044445784500123], [1.005960408767862, 0.6009494453212499], [-0.6275761490058823, -1.2667282727405], [-0.8400219944455738, 1.2316740027549735], [-0.5528665330885897, -2.0873443854066736], [-0.7757486370290176, 0.7712136476602846], [1.12648560504146, -0.47923965888082776], [-0.027689437126266817, -2.396134683040104], [-0.11459444356013841, -1.0371507824404111], [-1.1251960544765849, 0.027047736564076618], [-1.5000470207032512, -0.2612132856236398], [-1.1659038804739639, -1.0123094157051684], [-0.8494193473733895, 1.0333614258951835], [-0.44926907698443697, 0.7845600429092413], [0.8977875466185172, 0.4195307273564839], [0.11446151541705435, -0.25345952902769814], [0.2853055825489987, -0.5636860963938456], [-0.19151268696585194, 0.41519673498283166], [-1.1342574095910292, 1.131061758863061], [0.16428643973305665, 1.3976375760441315], [-0.08465820593068778, -1.7110668474062718], [1.4618268791351887, 1.4496750655866313], [-0.06486938476802305, 0.4503769409100631], [-1.8915107354702394, -0.33514061010540086], [1.286933262781857, -1.4341944607554453], [0.15285173805961366, 1.2166488154534874], [0.06170839507716035, -0.5541784114155618], [0.8268050577937051, -1.9302678963277955], [0.8309043670126016, -1.0859412305673932], [0.9549456319300945, 1.0706803599519428], [1.0434958603163753, -0.7751151966319508], [-0.5581189495508349, 0.37832236668012875], [0.8458482711547425, -0.3836743711880552], [0.7708770542673304, 0.6830194435471765], [-0.5330995486776434, 1.4771618267477704], [1.4866224875614686, 0.9875092433768528], [0.09879182382985872, 0.4850691273082117], [1.6947171652131392, -0.05691746902721455], [1.4309407982844389, -0.5863058878658436]]}, \"id\": \"el19296140264299326032\", \"plugins\": [{\"type\": \"reset\"}, {\"type\": \"zoom\", \"button\": true, \"enabled\": false}, {\"type\": \"boxzoom\", \"button\": true, \"enabled\": false}]});\n",
       "            })\n",
       "         });\n",
       "}\n",
       "</script>"
      ],
      "text/plain": [
       "<Figure size 432x288 with 1 Axes>"
      ]
     },
     "metadata": {
      "needs_background": "light"
     },
     "output_type": "display_data"
    }
   ],
   "source": [
    "%matplotlib inline\n",
    "import matplotlib.pyplot as plt\n",
    "import numpy as np\n",
    "import mpld3\n",
    "\n",
    "mpld3.enable_notebook()\n",
    "from mpld3 import plugins\n",
    "\n",
    "fig, ax = plt.subplots(subplot_kw=dict(facecolor='#EEEEEE'))\n",
    "ax.grid(color='white', linestyle='solid')\n",
    "\n",
    "N = 50\n",
    "scatter = ax.scatter(np.random.normal(size=N),\n",
    "                     np.random.normal(size=N),\n",
    "                     c=np.random.random(size=N),\n",
    "                     s = 1000 * np.random.random(size=N),\n",
    "                     alpha=0.3,\n",
    "                     cmap=plt.cm.jet)\n",
    "\n",
    "ax.set_title(\"D3 Scatter Plot (with tooltips!)\", size=20)\n",
    "\n",
    "labels = ['point {0}'.format(i + 1) for i in range(N)]\n",
    "fig.plugins = [plugins.PointLabelTooltip(scatter, labels)]"
   ]
  },
  {
   "cell_type": "code",
   "execution_count": 1,
   "metadata": {},
   "outputs": [
    {
     "data": {
      "image/png": "[encoded data removed]",
      "text/html": [
       "\n",
       "\n",
       "<style>\n",
       "\n",
       "</style>\n",
       "\n",
       "<div id=\"fig_el192961402648069767843515170933\"></div>\n",
       "<script>\n",
       "function mpld3_load_lib(url, callback){\n",
       "  var s = document.createElement('script');\n",
       "  s.src = url;\n",
       "  s.async = true;\n",
       "  s.onreadystatechange = s.onload = callback;\n",
       "  s.onerror = function(){console.warn(\"failed to load library \" + url);};\n",
       "  document.getElementsByTagName(\"head\")[0].appendChild(s);\n",
       "}\n",
       "\n",
       "if(typeof(mpld3) !== \"undefined\" && mpld3._mpld3IsLoaded){\n",
       "   // already loaded: just create the figure\n",
       "   !function(mpld3){\n",
       "       \n",
       "       mpld3.draw_figure(\"fig_el192961402648069767843515170933\", {\"width\": 432.0, \"height\": 288.0, \"axes\": [{\"bbox\": [0.125, 0.125, 0.775, 0.755], \"xlim\": [-3.0518731240507386, 3.0269518273310307], \"ylim\": [-2.4995707685084985, 3.1136035359343333], \"xdomain\": [-3.0518731240507386, 3.0269518273310307], \"ydomain\": [-2.4995707685084985, 3.1136035359343333], \"xscale\": \"linear\", \"yscale\": \"linear\", \"axes\": [{\"position\": \"bottom\", \"nticks\": 9, \"tickvalues\": null, \"tickformat\": null, \"scale\": \"linear\", \"fontsize\": 10.0, \"grid\": {\"gridOn\": true, \"color\": \"#FFFFFF\", \"dasharray\": \"none\", \"alpha\": 1.0}, \"visible\": true}, {\"position\": \"left\", \"nticks\": 8, \"tickvalues\": null, \"tickformat\": null, \"scale\": \"linear\", \"fontsize\": 10.0, \"grid\": {\"gridOn\": true, \"color\": \"#FFFFFF\", \"dasharray\": \"none\", \"alpha\": 1.0}, \"visible\": true}], \"axesbg\": \"#EEEEEE\", \"axesbgalpha\": null, \"zoomable\": true, \"id\": \"el19296140264946594896\", \"lines\": [], \"paths\": [], \"markers\": [], \"texts\": [{\"text\": \"D3 Scatter Plot\", \"position\": [0.49999999999999994, 1.0275938189845473], \"coordinates\": \"axes\", \"h_anchor\": \"middle\", \"v_baseline\": \"auto\", \"rotation\": -0.0, \"fontsize\": 18.0, \"color\": \"#000000\", \"alpha\": 1, \"zorder\": 3, \"id\": \"el19296140264341239056\"}], \"collections\": [{\"offsets\": \"data01\", \"xindex\": 0, \"yindex\": 1, \"paths\": [[[[0.0, -0.5], [0.13260155, -0.5], [0.25978993539242673, -0.44731684579412084], [0.3535533905932738, -0.3535533905932738], [0.44731684579412084, -0.25978993539242673], [0.5, -0.13260155], [0.5, 0.0], [0.5, 0.13260155], [0.44731684579412084, 0.25978993539242673], [0.3535533905932738, 0.3535533905932738], [0.25978993539242673, 0.44731684579412084], [0.13260155, 0.5], [0.0, 0.5], [-0.13260155, 0.5], [-0.25978993539242673, 0.44731684579412084], [-0.3535533905932738, 0.3535533905932738], [-0.44731684579412084, 0.25978993539242673], [-0.5, 0.13260155], [-0.5, 0.0], [-0.5, -0.13260155], [-0.44731684579412084, -0.25978993539242673], [-0.3535533905932738, -0.3535533905932738], [-0.25978993539242673, -0.44731684579412084], [-0.13260155, -0.5], [0.0, -0.5]], [\"M\", \"C\", \"C\", \"C\", \"C\", \"C\", \"C\", \"C\", \"C\", \"Z\"]]], \"pathtransforms\": [[21.809766952081425, 0.0, 0.0, 21.809766952081425, 0.0, 0.0], [8.304428077481239, 0.0, 0.0, 8.304428077481239, 0.0, 0.0], [19.76008810946949, 0.0, 0.0, 19.76008810946949, 0.0, 0.0], [17.839586616553436, 0.0, 0.0, 17.839586616553436, 0.0, 0.0], [17.085476395733536, 0.0, 0.0, 17.085476395733536, 0.0, 0.0], [23.003648935319692, 0.0, 0.0, 23.003648935319692, 0.0, 0.0], [27.387525557342578, 0.0, 0.0, 27.387525557342578, 0.0, 0.0], [30.47367283139253, 0.0, 0.0, 30.47367283139253, 0.0, 0.0], [15.749559334855851, 0.0, 0.0, 15.749559334855851, 0.0, 0.0], [20.992095667624003, 0.0, 0.0, 20.992095667624003, 0.0, 0.0], [31.17135616912408, 0.0, 0.0, 31.17135616912408, 0.0, 0.0], [14.17558980670708, 0.0, 0.0, 14.17558980670708, 0.0, 0.0], [24.870225759996025, 0.0, 0.0, 24.870225759996025, 0.0, 0.0], [26.549472144129634, 0.0, 0.0, 26.549472144129634, 0.0, 0.0], [17.767890710103647, 0.0, 0.0, 17.767890710103647, 0.0, 0.0], [31.275629355822122, 0.0, 0.0, 31.275629355822122, 0.0, 0.0], [26.437502259025482, 0.0, 0.0, 26.437502259025482, 0.0, 0.0], [28.132866575903922, 0.0, 0.0, 28.132866575903922, 0.0, 0.0], [29.289047413946168, 0.0, 0.0, 29.289047413946168, 0.0, 0.0], [22.200673963071026, 0.0, 0.0, 22.200673963071026, 0.0, 0.0], [15.476110156822521, 0.0, 0.0, 15.476110156822521, 0.0, 0.0], [8.80212508480871, 0.0, 0.0, 8.80212508480871, 0.0, 0.0], [19.31778873784156, 0.0, 0.0, 19.31778873784156, 0.0, 0.0], [29.466722167499043, 0.0, 0.0, 29.466722167499043, 0.0, 0.0], [5.729447525389005, 0.0, 0.0, 5.729447525389005, 0.0, 0.0], [26.09284309447768, 0.0, 0.0, 26.09284309447768, 0.0, 0.0], [28.84887648455107, 0.0, 0.0, 28.84887648455107, 0.0, 0.0], [24.63409200002531, 0.0, 0.0, 24.63409200002531, 0.0, 0.0], [28.917671961786045, 0.0, 0.0, 28.917671961786045, 0.0, 0.0], [20.081869089283032, 0.0, 0.0, 20.081869089283032, 0.0, 0.0], [30.903469226680127, 0.0, 0.0, 30.903469226680127, 0.0, 0.0], [23.970629122673685, 0.0, 0.0, 23.970629122673685, 0.0, 0.0], [26.56988046671069, 0.0, 0.0, 26.56988046671069, 0.0, 0.0], [18.249966842416747, 0.0, 0.0, 18.249966842416747, 0.0, 0.0], [31.61179861715476, 0.0, 0.0, 31.61179861715476, 0.0, 0.0], [28.45645708181026, 0.0, 0.0, 28.45645708181026, 0.0, 0.0], [24.01865054695006, 0.0, 0.0, 24.01865054695006, 0.0, 0.0], [30.90487076091427, 0.0, 0.0, 30.90487076091427, 0.0, 0.0], [13.735290640004646, 0.0, 0.0, 13.735290640004646, 0.0, 0.0], [22.29295769795235, 0.0, 0.0, 22.29295769795235, 0.0, 0.0], [15.49409708665275, 0.0, 0.0, 15.49409708665275, 0.0, 0.0], [25.722251804407744, 0.0, 0.0, 25.722251804407744, 0.0, 0.0], [9.305876275805197, 0.0, 0.0, 9.305876275805197, 0.0, 0.0], [22.16804107214779, 0.0, 0.0, 22.16804107214779, 0.0, 0.0], [25.799025551995125, 0.0, 0.0, 25.799025551995125, 0.0, 0.0], [17.610300813633387, 0.0, 0.0, 17.610300813633387, 0.0, 0.0], [16.708860997975783, 0.0, 0.0, 16.708860997975783, 0.0, 0.0], [19.575883480999295, 0.0, 0.0, 19.575883480999295, 0.0, 0.0], [20.0439703737579, 0.0, 0.0, 20.0439703737579, 0.0, 0.0], [23.960086724937163, 0.0, 0.0, 23.960086724937163, 0.0, 0.0]], \"alphas\": [0.3], \"edgecolors\": [\"#93FF63\", \"#F1FC05\", \"#FF9B00\", \"#29FFCD\", \"#0000F5\", \"#FF9800\", \"#7F0000\", \"#00007F\", \"#FE1200\", \"#B7FF3F\", \"#FFC800\", \"#C7FF2F\", \"#FF9800\", \"#0058FF\", \"#7F0000\", \"#70FF86\", \"#CDFF29\", \"#FF1A00\", \"#0050FF\", \"#49FFAD\", \"#0084FF\", \"#0078FF\", \"#FF2500\", \"#FFAA00\", \"#8D0000\", \"#0020FF\", \"#FF6F00\", \"#00009A\", \"#0000DA\", \"#FF3B00\", \"#0028FF\", \"#00007F\", \"#0000E8\", \"#00CCFF\", \"#C3FF32\", \"#80FF76\", \"#B3FF42\", \"#FF5500\", \"#B0FF46\", \"#25FFD0\", \"#FFA300\", \"#CAFF2C\", \"#25FFD0\", \"#FFC000\", \"#0000A8\", \"#002CFF\", \"#0008FF\", \"#EDFF08\", \"#005CFF\", \"#00CCFF\"], \"facecolors\": [\"#93FF63\", \"#F1FC05\", \"#FF9B00\", \"#29FFCD\", \"#0000F5\", \"#FF9800\", \"#7F0000\", \"#00007F\", \"#FE1200\", \"#B7FF3F\", \"#FFC800\", \"#C7FF2F\", \"#FF9800\", \"#0058FF\", \"#7F0000\", \"#70FF86\", \"#CDFF29\", \"#FF1A00\", \"#0050FF\", \"#49FFAD\", \"#0084FF\", \"#0078FF\", \"#FF2500\", \"#FFAA00\", \"#8D0000\", \"#0020FF\", \"#FF6F00\", \"#00009A\", \"#0000DA\", \"#FF3B00\", \"#0028FF\", \"#00007F\", \"#0000E8\", \"#00CCFF\", \"#C3FF32\", \"#80FF76\", \"#B3FF42\", \"#FF5500\", \"#B0FF46\", \"#25FFD0\", \"#FFA300\", \"#CAFF2C\", \"#25FFD0\", \"#FFC000\", \"#0000A8\", \"#002CFF\", \"#0008FF\", \"#EDFF08\", \"#005CFF\", \"#00CCFF\"], \"edgewidths\": [1.0], \"offsetcoordinates\": \"data\", \"pathcoordinates\": \"display\", \"zorder\": 1, \"id\": \"el19296140264946557200\"}], \"images\": [], \"sharex\": [], \"sharey\": []}], \"data\": {\"data01\": [[-0.2754289670648299, -0.8484988137358014], [1.9241358975425116, -1.498259898935363], [0.42213260000092934, -0.9399476627714913], [-1.2152007218235457, 0.9248061331212353], [1.4060937022092337, -0.2317626275925938], [0.3013488442153449, -1.642370836209445], [0.5965449771164011, 1.134843725332985], [0.2508636953934306, -0.1740586701402992], [-0.008057847251935575, 2.822243375254384], [0.2842967751843747, 0.5272926741080887], [1.48625840931215, -0.35848915918916663], [0.32411464903913806, -0.19727233514242337], [1.0014962055851073, -0.8450643787181168], [1.3502610088415965, -0.5852509881240416], [0.2721870844339092, 2.329105595916884], [0.33100007555580807, -0.7512903317048586], [-1.0598715616046064, 0.5463384576707356], [-1.2488329969075007, 1.8061376764187613], [-0.21329728497792375, -0.08050783532560137], [-0.3742435242856534, 0.30109521122257277], [-0.030768611500207235, -2.196217202471106], [-0.3830254063377527, 0.3444050288714248], [0.6415884583112501, -0.02618800822253273], [-0.9894819486260977, -0.43783641508028204], [0.2459034454899868, -1.7911063118442623], [-0.9949734322138489, -1.2926417975391455], [0.21526385272615187, -0.5531996914317], [-0.23456419847521914, -0.3364709722755208], [2.707455114870096, 1.0695157730772948], [0.08751775609332253, 0.6406786907161184], [1.2225333530961573, -1.3722971960073875], [0.7449136686972406, 2.0545689982621163], [0.10218894512540666, 0.8988412864151719], [0.8431733067081606, 1.4447166913361056], [-1.5235428484266746, -1.2269257638930813], [-0.4010712397231531, 0.981654991669221], [1.2470771822436566, -1.448703838328214], [0.029812874783299147, 0.826904943331456], [-1.0070579393038317, -1.4527307375797858], [0.6006550051658693, -0.09971899157663253], [-0.9353661242348509, 0.14465044398264246], [-1.7392711757635673, 0.9413505520320672], [0.8842623741566228, -2.2230277598223185], [-2.742456505511008, 0.6605235113124927], [-0.9245424422961719, 0.5137059190531762], [0.7677109952028013, 0.5645548877527657], [-0.5557643470404955, 0.4669370745068107], [0.3188979453880046, -0.25231857832776183], [-1.0427984037896, -0.7620528168421733], [-0.5249715168058359, -1.86775771644245]]}, \"id\": \"el19296140264806976784\", \"plugins\": [{\"type\": \"reset\"}, {\"type\": \"zoom\", \"button\": true, \"enabled\": false}, {\"type\": \"boxzoom\", \"button\": true, \"enabled\": false}]});\n",
       "   }(mpld3);\n",
       "}else if(typeof define === \"function\" && define.amd){\n",
       "   // require.js is available: use it to load d3/mpld3\n",
       "   require.config({paths: {d3: \"https://mpld3.github.io/js/d3.v3.min\"}});\n",
       "   require([\"d3\"], function(d3){\n",
       "      window.d3 = d3;\n",
       "      mpld3_load_lib(\"https://mpld3.github.io/js/mpld3.v0.3.js\", function(){\n",
       "         \n",
       "         mpld3.draw_figure(\"fig_el192961402648069767843515170933\", {\"width\": 432.0, \"height\": 288.0, \"axes\": [{\"bbox\": [0.125, 0.125, 0.775, 0.755], \"xlim\": [-3.0518731240507386, 3.0269518273310307], \"ylim\": [-2.4995707685084985, 3.1136035359343333], \"xdomain\": [-3.0518731240507386, 3.0269518273310307], \"ydomain\": [-2.4995707685084985, 3.1136035359343333], \"xscale\": \"linear\", \"yscale\": \"linear\", \"axes\": [{\"position\": \"bottom\", \"nticks\": 9, \"tickvalues\": null, \"tickformat\": null, \"scale\": \"linear\", \"fontsize\": 10.0, \"grid\": {\"gridOn\": true, \"color\": \"#FFFFFF\", \"dasharray\": \"none\", \"alpha\": 1.0}, \"visible\": true}, {\"position\": \"left\", \"nticks\": 8, \"tickvalues\": null, \"tickformat\": null, \"scale\": \"linear\", \"fontsize\": 10.0, \"grid\": {\"gridOn\": true, \"color\": \"#FFFFFF\", \"dasharray\": \"none\", \"alpha\": 1.0}, \"visible\": true}], \"axesbg\": \"#EEEEEE\", \"axesbgalpha\": null, \"zoomable\": true, \"id\": \"el19296140264946594896\", \"lines\": [], \"paths\": [], \"markers\": [], \"texts\": [{\"text\": \"D3 Scatter Plot\", \"position\": [0.49999999999999994, 1.0275938189845473], \"coordinates\": \"axes\", \"h_anchor\": \"middle\", \"v_baseline\": \"auto\", \"rotation\": -0.0, \"fontsize\": 18.0, \"color\": \"#000000\", \"alpha\": 1, \"zorder\": 3, \"id\": \"el19296140264341239056\"}], \"collections\": [{\"offsets\": \"data01\", \"xindex\": 0, \"yindex\": 1, \"paths\": [[[[0.0, -0.5], [0.13260155, -0.5], [0.25978993539242673, -0.44731684579412084], [0.3535533905932738, -0.3535533905932738], [0.44731684579412084, -0.25978993539242673], [0.5, -0.13260155], [0.5, 0.0], [0.5, 0.13260155], [0.44731684579412084, 0.25978993539242673], [0.3535533905932738, 0.3535533905932738], [0.25978993539242673, 0.44731684579412084], [0.13260155, 0.5], [0.0, 0.5], [-0.13260155, 0.5], [-0.25978993539242673, 0.44731684579412084], [-0.3535533905932738, 0.3535533905932738], [-0.44731684579412084, 0.25978993539242673], [-0.5, 0.13260155], [-0.5, 0.0], [-0.5, -0.13260155], [-0.44731684579412084, -0.25978993539242673], [-0.3535533905932738, -0.3535533905932738], [-0.25978993539242673, -0.44731684579412084], [-0.13260155, -0.5], [0.0, -0.5]], [\"M\", \"C\", \"C\", \"C\", \"C\", \"C\", \"C\", \"C\", \"C\", \"Z\"]]], \"pathtransforms\": [[21.809766952081425, 0.0, 0.0, 21.809766952081425, 0.0, 0.0], [8.304428077481239, 0.0, 0.0, 8.304428077481239, 0.0, 0.0], [19.76008810946949, 0.0, 0.0, 19.76008810946949, 0.0, 0.0], [17.839586616553436, 0.0, 0.0, 17.839586616553436, 0.0, 0.0], [17.085476395733536, 0.0, 0.0, 17.085476395733536, 0.0, 0.0], [23.003648935319692, 0.0, 0.0, 23.003648935319692, 0.0, 0.0], [27.387525557342578, 0.0, 0.0, 27.387525557342578, 0.0, 0.0], [30.47367283139253, 0.0, 0.0, 30.47367283139253, 0.0, 0.0], [15.749559334855851, 0.0, 0.0, 15.749559334855851, 0.0, 0.0], [20.992095667624003, 0.0, 0.0, 20.992095667624003, 0.0, 0.0], [31.17135616912408, 0.0, 0.0, 31.17135616912408, 0.0, 0.0], [14.17558980670708, 0.0, 0.0, 14.17558980670708, 0.0, 0.0], [24.870225759996025, 0.0, 0.0, 24.870225759996025, 0.0, 0.0], [26.549472144129634, 0.0, 0.0, 26.549472144129634, 0.0, 0.0], [17.767890710103647, 0.0, 0.0, 17.767890710103647, 0.0, 0.0], [31.275629355822122, 0.0, 0.0, 31.275629355822122, 0.0, 0.0], [26.437502259025482, 0.0, 0.0, 26.437502259025482, 0.0, 0.0], [28.132866575903922, 0.0, 0.0, 28.132866575903922, 0.0, 0.0], [29.289047413946168, 0.0, 0.0, 29.289047413946168, 0.0, 0.0], [22.200673963071026, 0.0, 0.0, 22.200673963071026, 0.0, 0.0], [15.476110156822521, 0.0, 0.0, 15.476110156822521, 0.0, 0.0], [8.80212508480871, 0.0, 0.0, 8.80212508480871, 0.0, 0.0], [19.31778873784156, 0.0, 0.0, 19.31778873784156, 0.0, 0.0], [29.466722167499043, 0.0, 0.0, 29.466722167499043, 0.0, 0.0], [5.729447525389005, 0.0, 0.0, 5.729447525389005, 0.0, 0.0], [26.09284309447768, 0.0, 0.0, 26.09284309447768, 0.0, 0.0], [28.84887648455107, 0.0, 0.0, 28.84887648455107, 0.0, 0.0], [24.63409200002531, 0.0, 0.0, 24.63409200002531, 0.0, 0.0], [28.917671961786045, 0.0, 0.0, 28.917671961786045, 0.0, 0.0], [20.081869089283032, 0.0, 0.0, 20.081869089283032, 0.0, 0.0], [30.903469226680127, 0.0, 0.0, 30.903469226680127, 0.0, 0.0], [23.970629122673685, 0.0, 0.0, 23.970629122673685, 0.0, 0.0], [26.56988046671069, 0.0, 0.0, 26.56988046671069, 0.0, 0.0], [18.249966842416747, 0.0, 0.0, 18.249966842416747, 0.0, 0.0], [31.61179861715476, 0.0, 0.0, 31.61179861715476, 0.0, 0.0], [28.45645708181026, 0.0, 0.0, 28.45645708181026, 0.0, 0.0], [24.01865054695006, 0.0, 0.0, 24.01865054695006, 0.0, 0.0], [30.90487076091427, 0.0, 0.0, 30.90487076091427, 0.0, 0.0], [13.735290640004646, 0.0, 0.0, 13.735290640004646, 0.0, 0.0], [22.29295769795235, 0.0, 0.0, 22.29295769795235, 0.0, 0.0], [15.49409708665275, 0.0, 0.0, 15.49409708665275, 0.0, 0.0], [25.722251804407744, 0.0, 0.0, 25.722251804407744, 0.0, 0.0], [9.305876275805197, 0.0, 0.0, 9.305876275805197, 0.0, 0.0], [22.16804107214779, 0.0, 0.0, 22.16804107214779, 0.0, 0.0], [25.799025551995125, 0.0, 0.0, 25.799025551995125, 0.0, 0.0], [17.610300813633387, 0.0, 0.0, 17.610300813633387, 0.0, 0.0], [16.708860997975783, 0.0, 0.0, 16.708860997975783, 0.0, 0.0], [19.575883480999295, 0.0, 0.0, 19.575883480999295, 0.0, 0.0], [20.0439703737579, 0.0, 0.0, 20.0439703737579, 0.0, 0.0], [23.960086724937163, 0.0, 0.0, 23.960086724937163, 0.0, 0.0]], \"alphas\": [0.3], \"edgecolors\": [\"#93FF63\", \"#F1FC05\", \"#FF9B00\", \"#29FFCD\", \"#0000F5\", \"#FF9800\", \"#7F0000\", \"#00007F\", \"#FE1200\", \"#B7FF3F\", \"#FFC800\", \"#C7FF2F\", \"#FF9800\", \"#0058FF\", \"#7F0000\", \"#70FF86\", \"#CDFF29\", \"#FF1A00\", \"#0050FF\", \"#49FFAD\", \"#0084FF\", \"#0078FF\", \"#FF2500\", \"#FFAA00\", \"#8D0000\", \"#0020FF\", \"#FF6F00\", \"#00009A\", \"#0000DA\", \"#FF3B00\", \"#0028FF\", \"#00007F\", \"#0000E8\", \"#00CCFF\", \"#C3FF32\", \"#80FF76\", \"#B3FF42\", \"#FF5500\", \"#B0FF46\", \"#25FFD0\", \"#FFA300\", \"#CAFF2C\", \"#25FFD0\", \"#FFC000\", \"#0000A8\", \"#002CFF\", \"#0008FF\", \"#EDFF08\", \"#005CFF\", \"#00CCFF\"], \"facecolors\": [\"#93FF63\", \"#F1FC05\", \"#FF9B00\", \"#29FFCD\", \"#0000F5\", \"#FF9800\", \"#7F0000\", \"#00007F\", \"#FE1200\", \"#B7FF3F\", \"#FFC800\", \"#C7FF2F\", \"#FF9800\", \"#0058FF\", \"#7F0000\", \"#70FF86\", \"#CDFF29\", \"#FF1A00\", \"#0050FF\", \"#49FFAD\", \"#0084FF\", \"#0078FF\", \"#FF2500\", \"#FFAA00\", \"#8D0000\", \"#0020FF\", \"#FF6F00\", \"#00009A\", \"#0000DA\", \"#FF3B00\", \"#0028FF\", \"#00007F\", \"#0000E8\", \"#00CCFF\", \"#C3FF32\", \"#80FF76\", \"#B3FF42\", \"#FF5500\", \"#B0FF46\", \"#25FFD0\", \"#FFA300\", \"#CAFF2C\", \"#25FFD0\", \"#FFC000\", \"#0000A8\", \"#002CFF\", \"#0008FF\", \"#EDFF08\", \"#005CFF\", \"#00CCFF\"], \"edgewidths\": [1.0], \"offsetcoordinates\": \"data\", \"pathcoordinates\": \"display\", \"zorder\": 1, \"id\": \"el19296140264946557200\"}], \"images\": [], \"sharex\": [], \"sharey\": []}], \"data\": {\"data01\": [[-0.2754289670648299, -0.8484988137358014], [1.9241358975425116, -1.498259898935363], [0.42213260000092934, -0.9399476627714913], [-1.2152007218235457, 0.9248061331212353], [1.4060937022092337, -0.2317626275925938], [0.3013488442153449, -1.642370836209445], [0.5965449771164011, 1.134843725332985], [0.2508636953934306, -0.1740586701402992], [-0.008057847251935575, 2.822243375254384], [0.2842967751843747, 0.5272926741080887], [1.48625840931215, -0.35848915918916663], [0.32411464903913806, -0.19727233514242337], [1.0014962055851073, -0.8450643787181168], [1.3502610088415965, -0.5852509881240416], [0.2721870844339092, 2.329105595916884], [0.33100007555580807, -0.7512903317048586], [-1.0598715616046064, 0.5463384576707356], [-1.2488329969075007, 1.8061376764187613], [-0.21329728497792375, -0.08050783532560137], [-0.3742435242856534, 0.30109521122257277], [-0.030768611500207235, -2.196217202471106], [-0.3830254063377527, 0.3444050288714248], [0.6415884583112501, -0.02618800822253273], [-0.9894819486260977, -0.43783641508028204], [0.2459034454899868, -1.7911063118442623], [-0.9949734322138489, -1.2926417975391455], [0.21526385272615187, -0.5531996914317], [-0.23456419847521914, -0.3364709722755208], [2.707455114870096, 1.0695157730772948], [0.08751775609332253, 0.6406786907161184], [1.2225333530961573, -1.3722971960073875], [0.7449136686972406, 2.0545689982621163], [0.10218894512540666, 0.8988412864151719], [0.8431733067081606, 1.4447166913361056], [-1.5235428484266746, -1.2269257638930813], [-0.4010712397231531, 0.981654991669221], [1.2470771822436566, -1.448703838328214], [0.029812874783299147, 0.826904943331456], [-1.0070579393038317, -1.4527307375797858], [0.6006550051658693, -0.09971899157663253], [-0.9353661242348509, 0.14465044398264246], [-1.7392711757635673, 0.9413505520320672], [0.8842623741566228, -2.2230277598223185], [-2.742456505511008, 0.6605235113124927], [-0.9245424422961719, 0.5137059190531762], [0.7677109952028013, 0.5645548877527657], [-0.5557643470404955, 0.4669370745068107], [0.3188979453880046, -0.25231857832776183], [-1.0427984037896, -0.7620528168421733], [-0.5249715168058359, -1.86775771644245]]}, \"id\": \"el19296140264806976784\", \"plugins\": [{\"type\": \"reset\"}, {\"type\": \"zoom\", \"button\": true, \"enabled\": false}, {\"type\": \"boxzoom\", \"button\": true, \"enabled\": false}]});\n",
       "      });\n",
       "    });\n",
       "}else{\n",
       "    // require.js not available: dynamically load d3 & mpld3\n",
       "    mpld3_load_lib(\"https://mpld3.github.io/js/d3.v3.min.js\", function(){\n",
       "         mpld3_load_lib(\"https://mpld3.github.io/js/mpld3.v0.3.js\", function(){\n",
       "                 \n",
       "                 mpld3.draw_figure(\"fig_el192961402648069767843515170933\", {\"width\": 432.0, \"height\": 288.0, \"axes\": [{\"bbox\": [0.125, 0.125, 0.775, 0.755], \"xlim\": [-3.0518731240507386, 3.0269518273310307], \"ylim\": [-2.4995707685084985, 3.1136035359343333], \"xdomain\": [-3.0518731240507386, 3.0269518273310307], \"ydomain\": [-2.4995707685084985, 3.1136035359343333], \"xscale\": \"linear\", \"yscale\": \"linear\", \"axes\": [{\"position\": \"bottom\", \"nticks\": 9, \"tickvalues\": null, \"tickformat\": null, \"scale\": \"linear\", \"fontsize\": 10.0, \"grid\": {\"gridOn\": true, \"color\": \"#FFFFFF\", \"dasharray\": \"none\", \"alpha\": 1.0}, \"visible\": true}, {\"position\": \"left\", \"nticks\": 8, \"tickvalues\": null, \"tickformat\": null, \"scale\": \"linear\", \"fontsize\": 10.0, \"grid\": {\"gridOn\": true, \"color\": \"#FFFFFF\", \"dasharray\": \"none\", \"alpha\": 1.0}, \"visible\": true}], \"axesbg\": \"#EEEEEE\", \"axesbgalpha\": null, \"zoomable\": true, \"id\": \"el19296140264946594896\", \"lines\": [], \"paths\": [], \"markers\": [], \"texts\": [{\"text\": \"D3 Scatter Plot\", \"position\": [0.49999999999999994, 1.0275938189845473], \"coordinates\": \"axes\", \"h_anchor\": \"middle\", \"v_baseline\": \"auto\", \"rotation\": -0.0, \"fontsize\": 18.0, \"color\": \"#000000\", \"alpha\": 1, \"zorder\": 3, \"id\": \"el19296140264341239056\"}], \"collections\": [{\"offsets\": \"data01\", \"xindex\": 0, \"yindex\": 1, \"paths\": [[[[0.0, -0.5], [0.13260155, -0.5], [0.25978993539242673, -0.44731684579412084], [0.3535533905932738, -0.3535533905932738], [0.44731684579412084, -0.25978993539242673], [0.5, -0.13260155], [0.5, 0.0], [0.5, 0.13260155], [0.44731684579412084, 0.25978993539242673], [0.3535533905932738, 0.3535533905932738], [0.25978993539242673, 0.44731684579412084], [0.13260155, 0.5], [0.0, 0.5], [-0.13260155, 0.5], [-0.25978993539242673, 0.44731684579412084], [-0.3535533905932738, 0.3535533905932738], [-0.44731684579412084, 0.25978993539242673], [-0.5, 0.13260155], [-0.5, 0.0], [-0.5, -0.13260155], [-0.44731684579412084, -0.25978993539242673], [-0.3535533905932738, -0.3535533905932738], [-0.25978993539242673, -0.44731684579412084], [-0.13260155, -0.5], [0.0, -0.5]], [\"M\", \"C\", \"C\", \"C\", \"C\", \"C\", \"C\", \"C\", \"C\", \"Z\"]]], \"pathtransforms\": [[21.809766952081425, 0.0, 0.0, 21.809766952081425, 0.0, 0.0], [8.304428077481239, 0.0, 0.0, 8.304428077481239, 0.0, 0.0], [19.76008810946949, 0.0, 0.0, 19.76008810946949, 0.0, 0.0], [17.839586616553436, 0.0, 0.0, 17.839586616553436, 0.0, 0.0], [17.085476395733536, 0.0, 0.0, 17.085476395733536, 0.0, 0.0], [23.003648935319692, 0.0, 0.0, 23.003648935319692, 0.0, 0.0], [27.387525557342578, 0.0, 0.0, 27.387525557342578, 0.0, 0.0], [30.47367283139253, 0.0, 0.0, 30.47367283139253, 0.0, 0.0], [15.749559334855851, 0.0, 0.0, 15.749559334855851, 0.0, 0.0], [20.992095667624003, 0.0, 0.0, 20.992095667624003, 0.0, 0.0], [31.17135616912408, 0.0, 0.0, 31.17135616912408, 0.0, 0.0], [14.17558980670708, 0.0, 0.0, 14.17558980670708, 0.0, 0.0], [24.870225759996025, 0.0, 0.0, 24.870225759996025, 0.0, 0.0], [26.549472144129634, 0.0, 0.0, 26.549472144129634, 0.0, 0.0], [17.767890710103647, 0.0, 0.0, 17.767890710103647, 0.0, 0.0], [31.275629355822122, 0.0, 0.0, 31.275629355822122, 0.0, 0.0], [26.437502259025482, 0.0, 0.0, 26.437502259025482, 0.0, 0.0], [28.132866575903922, 0.0, 0.0, 28.132866575903922, 0.0, 0.0], [29.289047413946168, 0.0, 0.0, 29.289047413946168, 0.0, 0.0], [22.200673963071026, 0.0, 0.0, 22.200673963071026, 0.0, 0.0], [15.476110156822521, 0.0, 0.0, 15.476110156822521, 0.0, 0.0], [8.80212508480871, 0.0, 0.0, 8.80212508480871, 0.0, 0.0], [19.31778873784156, 0.0, 0.0, 19.31778873784156, 0.0, 0.0], [29.466722167499043, 0.0, 0.0, 29.466722167499043, 0.0, 0.0], [5.729447525389005, 0.0, 0.0, 5.729447525389005, 0.0, 0.0], [26.09284309447768, 0.0, 0.0, 26.09284309447768, 0.0, 0.0], [28.84887648455107, 0.0, 0.0, 28.84887648455107, 0.0, 0.0], [24.63409200002531, 0.0, 0.0, 24.63409200002531, 0.0, 0.0], [28.917671961786045, 0.0, 0.0, 28.917671961786045, 0.0, 0.0], [20.081869089283032, 0.0, 0.0, 20.081869089283032, 0.0, 0.0], [30.903469226680127, 0.0, 0.0, 30.903469226680127, 0.0, 0.0], [23.970629122673685, 0.0, 0.0, 23.970629122673685, 0.0, 0.0], [26.56988046671069, 0.0, 0.0, 26.56988046671069, 0.0, 0.0], [18.249966842416747, 0.0, 0.0, 18.249966842416747, 0.0, 0.0], [31.61179861715476, 0.0, 0.0, 31.61179861715476, 0.0, 0.0], [28.45645708181026, 0.0, 0.0, 28.45645708181026, 0.0, 0.0], [24.01865054695006, 0.0, 0.0, 24.01865054695006, 0.0, 0.0], [30.90487076091427, 0.0, 0.0, 30.90487076091427, 0.0, 0.0], [13.735290640004646, 0.0, 0.0, 13.735290640004646, 0.0, 0.0], [22.29295769795235, 0.0, 0.0, 22.29295769795235, 0.0, 0.0], [15.49409708665275, 0.0, 0.0, 15.49409708665275, 0.0, 0.0], [25.722251804407744, 0.0, 0.0, 25.722251804407744, 0.0, 0.0], [9.305876275805197, 0.0, 0.0, 9.305876275805197, 0.0, 0.0], [22.16804107214779, 0.0, 0.0, 22.16804107214779, 0.0, 0.0], [25.799025551995125, 0.0, 0.0, 25.799025551995125, 0.0, 0.0], [17.610300813633387, 0.0, 0.0, 17.610300813633387, 0.0, 0.0], [16.708860997975783, 0.0, 0.0, 16.708860997975783, 0.0, 0.0], [19.575883480999295, 0.0, 0.0, 19.575883480999295, 0.0, 0.0], [20.0439703737579, 0.0, 0.0, 20.0439703737579, 0.0, 0.0], [23.960086724937163, 0.0, 0.0, 23.960086724937163, 0.0, 0.0]], \"alphas\": [0.3], \"edgecolors\": [\"#93FF63\", \"#F1FC05\", \"#FF9B00\", \"#29FFCD\", \"#0000F5\", \"#FF9800\", \"#7F0000\", \"#00007F\", \"#FE1200\", \"#B7FF3F\", \"#FFC800\", \"#C7FF2F\", \"#FF9800\", \"#0058FF\", \"#7F0000\", \"#70FF86\", \"#CDFF29\", \"#FF1A00\", \"#0050FF\", \"#49FFAD\", \"#0084FF\", \"#0078FF\", \"#FF2500\", \"#FFAA00\", \"#8D0000\", \"#0020FF\", \"#FF6F00\", \"#00009A\", \"#0000DA\", \"#FF3B00\", \"#0028FF\", \"#00007F\", \"#0000E8\", \"#00CCFF\", \"#C3FF32\", \"#80FF76\", \"#B3FF42\", \"#FF5500\", \"#B0FF46\", \"#25FFD0\", \"#FFA300\", \"#CAFF2C\", \"#25FFD0\", \"#FFC000\", \"#0000A8\", \"#002CFF\", \"#0008FF\", \"#EDFF08\", \"#005CFF\", \"#00CCFF\"], \"facecolors\": [\"#93FF63\", \"#F1FC05\", \"#FF9B00\", \"#29FFCD\", \"#0000F5\", \"#FF9800\", \"#7F0000\", \"#00007F\", \"#FE1200\", \"#B7FF3F\", \"#FFC800\", \"#C7FF2F\", \"#FF9800\", \"#0058FF\", \"#7F0000\", \"#70FF86\", \"#CDFF29\", \"#FF1A00\", \"#0050FF\", \"#49FFAD\", \"#0084FF\", \"#0078FF\", \"#FF2500\", \"#FFAA00\", \"#8D0000\", \"#0020FF\", \"#FF6F00\", \"#00009A\", \"#0000DA\", \"#FF3B00\", \"#0028FF\", \"#00007F\", \"#0000E8\", \"#00CCFF\", \"#C3FF32\", \"#80FF76\", \"#B3FF42\", \"#FF5500\", \"#B0FF46\", \"#25FFD0\", \"#FFA300\", \"#CAFF2C\", \"#25FFD0\", \"#FFC000\", \"#0000A8\", \"#002CFF\", \"#0008FF\", \"#EDFF08\", \"#005CFF\", \"#00CCFF\"], \"edgewidths\": [1.0], \"offsetcoordinates\": \"data\", \"pathcoordinates\": \"display\", \"zorder\": 1, \"id\": \"el19296140264946557200\"}], \"images\": [], \"sharex\": [], \"sharey\": []}], \"data\": {\"data01\": [[-0.2754289670648299, -0.8484988137358014], [1.9241358975425116, -1.498259898935363], [0.42213260000092934, -0.9399476627714913], [-1.2152007218235457, 0.9248061331212353], [1.4060937022092337, -0.2317626275925938], [0.3013488442153449, -1.642370836209445], [0.5965449771164011, 1.134843725332985], [0.2508636953934306, -0.1740586701402992], [-0.008057847251935575, 2.822243375254384], [0.2842967751843747, 0.5272926741080887], [1.48625840931215, -0.35848915918916663], [0.32411464903913806, -0.19727233514242337], [1.0014962055851073, -0.8450643787181168], [1.3502610088415965, -0.5852509881240416], [0.2721870844339092, 2.329105595916884], [0.33100007555580807, -0.7512903317048586], [-1.0598715616046064, 0.5463384576707356], [-1.2488329969075007, 1.8061376764187613], [-0.21329728497792375, -0.08050783532560137], [-0.3742435242856534, 0.30109521122257277], [-0.030768611500207235, -2.196217202471106], [-0.3830254063377527, 0.3444050288714248], [0.6415884583112501, -0.02618800822253273], [-0.9894819486260977, -0.43783641508028204], [0.2459034454899868, -1.7911063118442623], [-0.9949734322138489, -1.2926417975391455], [0.21526385272615187, -0.5531996914317], [-0.23456419847521914, -0.3364709722755208], [2.707455114870096, 1.0695157730772948], [0.08751775609332253, 0.6406786907161184], [1.2225333530961573, -1.3722971960073875], [0.7449136686972406, 2.0545689982621163], [0.10218894512540666, 0.8988412864151719], [0.8431733067081606, 1.4447166913361056], [-1.5235428484266746, -1.2269257638930813], [-0.4010712397231531, 0.981654991669221], [1.2470771822436566, -1.448703838328214], [0.029812874783299147, 0.826904943331456], [-1.0070579393038317, -1.4527307375797858], [0.6006550051658693, -0.09971899157663253], [-0.9353661242348509, 0.14465044398264246], [-1.7392711757635673, 0.9413505520320672], [0.8842623741566228, -2.2230277598223185], [-2.742456505511008, 0.6605235113124927], [-0.9245424422961719, 0.5137059190531762], [0.7677109952028013, 0.5645548877527657], [-0.5557643470404955, 0.4669370745068107], [0.3188979453880046, -0.25231857832776183], [-1.0427984037896, -0.7620528168421733], [-0.5249715168058359, -1.86775771644245]]}, \"id\": \"el19296140264806976784\", \"plugins\": [{\"type\": \"reset\"}, {\"type\": \"zoom\", \"button\": true, \"enabled\": false}, {\"type\": \"boxzoom\", \"button\": true, \"enabled\": false}]});\n",
       "            })\n",
       "         });\n",
       "}\n",
       "</script>"
      ],
      "text/plain": [
       "<Figure size 432x288 with 1 Axes>"
      ]
     },
     "metadata": {
      "needs_background": "light"
     },
     "output_type": "display_data"
    }
   ],
   "source": [
    "%matplotlib inline\n",
    "import matplotlib.pyplot as plt\n",
    "import numpy as np\n",
    "import mpld3\n",
    "\n",
    "mpld3.enable_notebook()\n",
    "\n",
    "fig, ax = plt.subplots(subplot_kw=dict(facecolor='#EEEEEE'))\n",
    "ax.grid(color='white', linestyle='solid')\n",
    "\n",
    "N = 50\n",
    "x = np.random.normal(size=N).tolist()\n",
    "y = np.random.normal(size=N).tolist()\n",
    "s = 1000 * (np.random.random(size=N))\n",
    "s=s.tolist()\n",
    "c = np.random.random(size=N)\n",
    "c=c.tolist()\n",
    "co = np.random.normal(size=N).tolist()\n",
    "CM = plt.cm.jet\n",
    "\n",
    "\n",
    "plt.scatter = ax.scatter(x,y,c=c,s=s,alpha=0.3,cmap=CM)\n",
    "\n",
    "\n",
    "ax.set_title(\"D3 Scatter Plot\", size=18);\n",
    "plt.show()"
   ]
  },
  {
   "cell_type": "markdown",
   "metadata": {},
   "source": [
    "## json to numpy array"
   ]
  },
  {
   "cell_type": "code",
   "execution_count": null,
   "metadata": {},
   "outputs": [],
   "source": [
    "import numpy as np\n",
    "import codecs, json \n",
    "\n",
    "a = np.arange(10).reshape(2,5) # a 2 by 5 array\n",
    "b = a.tolist() # nested lists with same data, indices\n",
    "## your path variable\n",
    "file_path = '/path.json' \n",
    "### this saves the array in .json format\n",
    "json.dump(b, codecs.open(file_path, 'w', encoding='utf-8'), separators=(',', ':'), sort_keys=True, indent=4) \n",
    "\n",
    "#In order to 'unjsonify' the array use:\n",
    "\n",
    "obj_text = codecs.open(file_path, 'r', encoding='utf-8').read()\n",
    "b_new = json.loads(obj_text)\n",
    "a_new = np.array(b_new)"
   ]
  }
 ],
 "metadata": {
  "kernelspec": {
   "display_name": "Python 3",
   "language": "python",
   "name": "python3"
  },
  "language_info": {
   "codemirror_mode": {
    "name": "ipython",
    "version": 3
   },
   "file_extension": ".py",
   "mimetype": "text/x-python",
   "name": "python",
   "nbconvert_exporter": "python",
   "pygments_lexer": "ipython3",
   "version": "3.7.4"
  },
  "toc": {
   "base_numbering": 1,
   "nav_menu": {},
   "number_sections": true,
   "sideBar": true,
   "skip_h1_title": false,
   "title_cell": "Table of Contents",
   "title_sidebar": "Contents",
   "toc_cell": false,
   "toc_position": {},
   "toc_section_display": true,
   "toc_window_display": false
  }
 },
 "nbformat": 4,
 "nbformat_minor": 2
}
