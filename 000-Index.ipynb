{
 "cells": [
  {
   "cell_type": "markdown",
   "metadata": {},
   "source": [
    "# 000-Index.ipynb"
   ]
  },
  {
   "cell_type": "markdown",
   "metadata": {},
   "source": [
    "## 002-US-States_HOT_spots_DEATHS.ipynb\n",
    "#### <a href=\"002-US-States_HOT_spots_DEATHS.ipynb\">LINK: 002-US-States_HOT_spots_DEATHS.ipynb</a>\n",
    "How to retrieve data from:\n",
    "https://raw.githubusercontent.com/CSSEGISandData/COVID-19/master/csse_covid_19_data/csse_covid_19_time_series/time_series_covid19_deaths_US.csv<br />\n",
    "Creating lists of counties with multiple consectutive days of increase, using a threshold.<br />\n"
   ]
  },
  {
   "cell_type": "markdown",
   "metadata": {},
   "source": [
    "<a href=\"000-Index.ipynb\">Index.ipynb</a><br />\n",
    "<a href=\"002-US-States_HOT_spots_DEATHS.ipynb\">US-States_HOT_spots_DEATHS</a><br />\n",
    "<a href=\"003-Available-Matplotlib-Colors.ipynb\">Available-Matplotlib-Colors.ipynb</a><br />\n",
    "<a href=\"007-Drawing-Maps-with-Shapefiles-and-US_State_Bounding_Boxes.ipynb\">Drawing-Maps-with-Shapefiles-and-US_State_Bounding_Boxes</a><br />\n",
    "<a href=\"008-Plotting-on-Basemaps.ipynb\">Plotting-on-Basemaps.ipynb</a><br />\n",
    "<a href=\"009-Get-Adjacent-Counties.ipynb\">Get-Adjacent-Counties.ipynb</a><br />\n",
    "<a href=\"010-Series-Castle-Rock-Restaurant.ipynb\">Series-Castle-Rock-Restaurant.ipynb</a><br />\n",
    "<a href=\"010-Series-COMMACK,NY—Protesters-May.ipynb\">Series-COMMACK,NY—Protesters-May.ipynb</a><br />\n",
    "<a href=\"010-Series-FLORIDA-research.ipynb\">Series-FLORIDA-research.ipynb</a><br />\n",
    "<a href=\"010-Series-NewYork.ipynb\">Series-NewYork.ipynb</a><br />\n",
    "<a href=\"010-Series-Protesters-on-Michigan-Capitol.ipynb\">Series-Protesters-on-Michigan-Capitol.ipynb</a><br />\n",
    "<a href=\"010-Series-ReOpen-Maryland-Annapolis-April-18.ipynb\">Series-ReOpen-Maryland-Annapolis-April-18.ipynb</a><br />\n",
    "<a href=\"012a-Pandas-Folium-Choropleth.ipynb\">Pandas-Folium-Choropleth.ipynb</a><br />\n",
    "<a href=\"012-Folium-maps.ipynb\">Folium-maps.ipynb</a><br />\n",
    "<a href=\"013-USA-COUNTIES-Finding-Hot-Spots.ipynb\">USA-COUNTIES-Finding-Hot-Spots.ipynb</a><br />\n",
    "<a href=\"013-ver_2-USA-COUNTIES-Finding-Hot-Spots.ipynb\">ver_2-USA-COUNTIES-Finding-Hot-Spots.ipynb</a><br />\n",
    "<a href=\"015-LEGENDS-Understanding-Plot-Legends.ipynb\">LEGENDS-Understanding-Plot-Legends.ipynb</a><br />\n",
    "<a href=\"019-Module-CountyData_py.py.ipynb\">Module-CountyData_py.py.ipynb</a><br />\n",
    "<a href=\"020-Plotting-CHINA.ipynb\">Plotting-CHINA.ipynb</a><br />\n",
    "<a href=\"021-plotly.graph-Deaths-by-Country.ipynb\">plotly.graph-Deaths-by-Country.ipynb</a><br />\n",
    "<a href=\"022-GlobalData-Country.ipynb\">GlobalData-Country.ipynb</a><br />\n",
    "<a href=\"022-review-shapefile-CSSEGISandData-COVID-19_Creating-Plots.ipynb\">review-shapefile-CSSEGISandData-COVID-19_Creating-Plots.ipynb</a><br />\n",
    "<a href=\"023-Getting-html-DataFrames-Resources-Statisics.ipynb\">Getting-html-DataFrames-Resources-Statisics.ipynb</a><br />\n",
    "<a href=\"024-python-matplotlib-and-cartopy-custom-legends.ipynb\">python-matplotlib-and-cartopy-custom-legends.ipynb</a><br />\n",
    "<a href=\"025-python2.7-Post-Plots-to-Twitter.ipynb\">python2.7-Post-Plots-to-Twitter.ipynb</a><br />\n",
    "<a href=\"026-Basemap-shapefiles-review.ipynb\">Basemap-shapefiles-review.ipynb</a><br />\n",
    "<a href=\"027-get-cities-and-counties-info.ipynb\">get-cities-and-counties-info.ipynb</a><br />\n",
    "<a href=\"028-Twitter-plot-bot.ipynb\">Twitter-plot-bot.ipynb</a><br />\n",
    "<a href=\"029-Python Maps with Folium-Advanced.ipynb\">Python Maps with Folium-Advanced.ipynb</a><br />\n",
    "<a href=\"030-Click-list-save-Latitude-and-Longitude-With-Mouse.ipynb\">Click-list-save-Latitude-and-Longitude-With-Mouse.ipynb</a><br />\n",
    "<a href=\"030-Create-a-Shapefile.ipynb\">Create-a-Shapefile.ipynb</a><br />\n",
    "<a href=\"031-naturalearthdata.ipynb\">naturalearthdata.ipynb</a><br />\n",
    "<a href=\"032-Experimental-resources-mouse-npy-cut-and-paste-arrays.ipynb\">Experimental-resources-mouse-npy-cut-and-paste-arrays.ipynb</a><br />\n",
    "<a href=\"033-Experiments-Tests.ipynb\">Experiments-Tests.ipynb</a><br />\n",
    "<a href=\"034-Working-with-SQLITE3-storage.ipynb\">Working-with-SQLITE3-storage.ipynb</a><br />\n",
    "<a href=\"050-grb-test.ipynb\">grb-test.ipynb</a><br />"
   ]
  },
  {
   "cell_type": "code",
   "execution_count": null,
   "metadata": {},
   "outputs": [],
   "source": []
  }
 ],
 "metadata": {
  "kernelspec": {
   "display_name": "Python(base)",
   "language": "python",
   "name": "base"
  },
  "language_info": {
   "codemirror_mode": {
    "name": "ipython",
    "version": 3
   },
   "file_extension": ".py",
   "mimetype": "text/x-python",
   "name": "python",
   "nbconvert_exporter": "python",
   "pygments_lexer": "ipython3",
   "version": "3.7.4"
  },
  "toc": {
   "base_numbering": 1,
   "nav_menu": {},
   "number_sections": true,
   "sideBar": true,
   "skip_h1_title": false,
   "title_cell": "Table of Contents",
   "title_sidebar": "Contents",
   "toc_cell": false,
   "toc_position": {},
   "toc_section_display": true,
   "toc_window_display": false
  }
 },
 "nbformat": 4,
 "nbformat_minor": 4
}
