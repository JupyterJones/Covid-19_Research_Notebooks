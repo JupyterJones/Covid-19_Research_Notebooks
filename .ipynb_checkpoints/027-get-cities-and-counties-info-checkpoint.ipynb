{
 "cells": [
  {
   "cell_type": "markdown",
   "metadata": {},
   "source": [
    "# Get the county a city is located in"
   ]
  },
  {
   "cell_type": "code",
   "execution_count": 1,
   "metadata": {},
   "outputs": [
    {
     "name": "stdout",
     "output_type": "stream",
     "text": [
      "['St. Paul', 'MO', 'Missouri', 'St. Charles', '38.8484', '-90.7406', '2295', '123']\n",
      "['St. Paul', 'MN', 'Minnesota', 'Ramsey', '44.9477', '-93.104', '306621', '2277']\n",
      "['St. Paul Park', 'MN', 'Minnesota', 'Washington', '44.836', '-92.9949', '5392', '701']\n",
      "['South St. Paul', 'MN', 'Minnesota', 'Dakota', '44.8877', '-93.0411', '20242', '1389']\n",
      "['North St. Paul', 'MN', 'Minnesota', 'Ramsey', '45.0137', '-92.9995', '12444', '1680']\n",
      "['West St. Paul', 'MN', 'Minnesota', 'Dakota', '44.9018', '-93.0858', '19767', '1554']\n"
     ]
    }
   ],
   "source": [
    "filename = \"/home/jack/Desktop/COVID-19-Jupyter-Notebooks/SimpleCities/cities-and-counties.csv\"\n",
    "COUNTYdata=[]\n",
    "cnt=0\n",
    "filein = open(\"CountyData.data\", \"w\")\n",
    "datain = open(filename, \"r\").read()\n",
    "DATAin = datain.splitlines()\n",
    "for line in DATAin:\n",
    "    cnt=cnt+1\n",
    "    filein.write(line+\"\\n\")\n",
    "    line=line.split(\",\")\n",
    "    COUNTYdata.append(line)\n",
    "cnt=0\n",
    "for line in COUNTYdata:\n",
    "    cnt=cnt+1\n",
    "    if \"St. Paul\" in line[0] and \"M\" in line[1]:\n",
    "        print(line)\n",
    "filein.close()"
   ]
  },
  {
   "cell_type": "code",
   "execution_count": null,
   "metadata": {},
   "outputs": [],
   "source": [
    "filein = open(\"CountyData.data\", \"r\").readlines()\n",
    "for line in filein:\n",
    "    print(line)\n"
   ]
  },
  {
   "cell_type": "code",
   "execution_count": null,
   "metadata": {},
   "outputs": [],
   "source": [
    "http://www.statsamerica.org/Covid19.aspx"
   ]
  },
  {
   "cell_type": "markdown",
   "metadata": {},
   "source": [
    "https://simplemaps.com/data/us-cities\n",
    "Great Resource: https://datausa.io/coronavirus"
   ]
  },
  {
   "cell_type": "code",
   "execution_count": null,
   "metadata": {},
   "outputs": [],
   "source": [
    "import requests as req\n",
    "response = req.get(\"https://www2.census.gov/programs-surveys/popest/datasets/2010-2019/counties/totals/co-est2019-alldata.csv\")\n",
    "alldata = response.text\n"
   ]
  },
  {
   "cell_type": "code",
   "execution_count": null,
   "metadata": {},
   "outputs": [],
   "source": [
    "cnt=0\n",
    "ALLData =alldata.splitlines()\n",
    "for line in ALLData:\n",
    "    cnt=cnt+1\n",
    "    if cnt<20:\n",
    "        lines = line.split(\",\")\n",
    "        print(lines[4:10])"
   ]
  },
  {
   "cell_type": "code",
   "execution_count": null,
   "metadata": {},
   "outputs": [],
   "source": [
    "!ls state-data/DATA"
   ]
  },
  {
   "cell_type": "markdown",
   "metadata": {},
   "source": [
    "# Research"
   ]
  },
  {
   "cell_type": "code",
   "execution_count": null,
   "metadata": {},
   "outputs": [],
   "source": [
    "https://covid19.colorado.gov/data/case-data\n",
    "May 16th Colorado 1,192\n",
    "https://www.denverpost.com/2020/05/11/castle-rock-restaurant-closed-coroanvirus-covid/\n",
    "Info: Castle Rock restaurant opened to large Mother’s Day crowds,(May 11th)\n",
    "    Castle Rock Restaurant is located in Douglas County, Colorado"
   ]
  },
  {
   "cell_type": "markdown",
   "metadata": {},
   "source": [
    "### Monitor the Cases of COVID-19 in Douglas County, Colorado"
   ]
  },
  {
   "cell_type": "code",
   "execution_count": null,
   "metadata": {},
   "outputs": [],
   "source": [
    "cnt=0\n",
    "ALLData =alldata.splitlines()\n",
    "for line in ALLData:\n",
    "    lines = line.split(\",\")\n",
    "    if lines[5] ==\"Colorado\" and \"Douglas\" in lines[6]:\n",
    "            print(lines[4:10])\n",
    "            \n",
    "    #print(lines[5],lines[6])        \n",
    "\n",
    "\n",
    "\n",
    "\n",
    "\"\"\"\n",
    "cnt = 0\n",
    "for line in ALLData:\n",
    "    cnt=cnt+1\n",
    "    #if cnt == 1:print(line)\n",
    "for i in range(0, len(ALLData)):\n",
    "    #if ALLData[i][5] ==\"Douglas\" and ALLData[i][6] ==\"Colorado\":\n",
    "    #   CNT==0\n",
    "    #print(lines[4:10])\n",
    "    print(ALLData[i][5],ALLData[i][6])   \n",
    "\"\"\"    "
   ]
  },
  {
   "cell_type": "code",
   "execution_count": null,
   "metadata": {},
   "outputs": [],
   "source": [
    "cnt = 0\n",
    "for line in ALLData:\n",
    "    cnt=cnt+1\n",
    "    #if cnt == 1:print(line)\n",
    "for i in range(0, len(ALLData)):\n",
    "    if ALLData[i][5] ==\"Ramsey\" and ALLData[i][6] ==\"Minnesota\":\n",
    "        print(ALLData[i])"
   ]
  },
  {
   "cell_type": "code",
   "execution_count": null,
   "metadata": {},
   "outputs": [],
   "source": [
    "import requests as req\n",
    "import time\n",
    "DATE = time.strftime(\"%m-%d-%H_\")\n",
    "\n",
    "# Create an empty list\n",
    "ALLdata=[]\n",
    "\n",
    "URL =\"https://raw.githubusercontent.com/CSSEGISandData/COVID-19/master/csse_covid_19_data/csse_covid_19_time_series/time_series_covid19_deaths_US.csv\"\n",
    "\n",
    "resp = req.get(URL)\n",
    "content = resp.text\n",
    "\n",
    "#clean the content, then break the content into lines \n",
    "content=content.replace(\",,\",\",Ex,\")\n",
    "content=content.replace(\"(\",\"\")\n",
    "content=content.replace(\")\",\"\")\n",
    "content=content.replace(\"\\\"\",\"\")\n",
    "lines= content.splitlines()\n",
    "print (len(lines))\n",
    "# loop the lines one line at a time\n",
    "# split each line at the delimiter ` , ` \n",
    "# then append the empty list 'ALLdata' with the line (which is now a list):  [line]  \n",
    "for line in lines:\n",
    "    #convert the splitlines to strings\n",
    "    line= str(line).split(\",\")\n",
    "    ALLdata.append(line)"
   ]
  },
  {
   "cell_type": "code",
   "execution_count": null,
   "metadata": {},
   "outputs": [],
   "source": [
    "cnt = 0\n",
    "for line in ALLdata:\n",
    "    cnt=cnt+1\n",
    "    if cnt == 1:print(line)"
   ]
  },
  {
   "cell_type": "code",
   "execution_count": null,
   "metadata": {},
   "outputs": [],
   "source": [
    "for i in range(0, len(ALLdata)):\n",
    "    if \"Douglas\" in ALLdata[i][5] and ALLdata[i][6] ==\"Colorado\":\n",
    "        print(ALLdata[i])"
   ]
  },
  {
   "cell_type": "code",
   "execution_count": null,
   "metadata": {},
   "outputs": [],
   "source": [
    "DATA=\"\"\"Lane,SD,South Dakota,Jerauld,44.0697,-98.4246,59,49\n",
    "Willow Lake,SD,South Dakota,Clark,44.6279,-97.6387,240,248\n",
    "Montrose,SD,South Dakota,McCook,43.7002,-97.1843,442,414\n",
    "Spearfish,SD,South Dakota,Lawrence,44.4912,-103.8167,12675,272\n",
    "Emery,SD,South Dakota,Hanson,43.602,-97.6195,455,384\n",
    "Watertown,SD,South Dakota,Codington,44.9094,-97.1532,21837,475\n",
    "Buffalo,SD,South Dakota,Harding,45.5864,-103.5434,346,241\"\"\"\n",
    "\n",
    "\n",
    "def getcnty(city,state):\n",
    "    output = DATA.split(\"\\n\")\n",
    "    for line in output:\n",
    "        line = line.split(\",\")\n",
    "        if city in line[0]:\n",
    "            if state == line[1] or state in line[2]:\n",
    "                County = line[3]\n",
    "                return County"
   ]
  },
  {
   "cell_type": "code",
   "execution_count": null,
   "metadata": {},
   "outputs": [],
   "source": [
    "from CountyData import *\n",
    "city = \"Joplin\"\n",
    "state = \"MO\"\n",
    "getcnty(city,state)"
   ]
  },
  {
   "cell_type": "code",
   "execution_count": 2,
   "metadata": {},
   "outputs": [
    {
     "data": {
      "text/plain": [
       "('37.0759', '-94.5006')"
      ]
     },
     "execution_count": 2,
     "metadata": {},
     "output_type": "execute_result"
    }
   ],
   "source": [
    "from CountyData import *\n",
    "city = \"Joplin\"\n",
    "state = \"MO\"\n",
    "getlatitude(city,state)"
   ]
  },
  {
   "cell_type": "code",
   "execution_count": 4,
   "metadata": {},
   "outputs": [
    {
     "name": "stdout",
     "output_type": "stream",
     "text": [
      "San Lorenzo,NM,New Mexico,Grant,32.8086,-107.9221,158,34\n",
      "Lorena,TX,Texas,McLennan,31.3818,-97.2127,1761,200\n",
      "Lorenzo,TX,Texas,Crosby,33.6704,-101.5361,1182,478\n",
      "Lorenzo,NE,Nebraska,Cheyenne,41.0576,-103.0821,18,1\n",
      "Lorenz Park,NY,New York,Columbia,42.2669,-73.77,2213,478\n",
      "San Lorenzo,CA,California,Alameda,37.6737,-122.1349,25101,3491\n",
      "Jagual,PR,Puerto Rico,San Lorenzo,18.161,-65.9993,1216,2169\n",
      "San Lorenzo,PR,Puerto Rico,San Lorenzo,18.1894,-65.9674,7984,2278\n"
     ]
    }
   ],
   "source": [
    "import CountyData\n",
    "text = CountyData.DATA\n",
    "for lines in text.split(\"\\n\"):\n",
    "    if \"Loren\" in lines:\n",
    "        print(lines)"
   ]
  },
  {
   "cell_type": "code",
   "execution_count": null,
   "metadata": {},
   "outputs": [],
   "source": []
  }
 ],
 "metadata": {
  "kernelspec": {
   "display_name": "Python(base)",
   "language": "python",
   "name": "base"
  },
  "language_info": {
   "codemirror_mode": {
    "name": "ipython",
    "version": 3
   },
   "file_extension": ".py",
   "mimetype": "text/x-python",
   "name": "python",
   "nbconvert_exporter": "python",
   "pygments_lexer": "ipython3",
   "version": "3.7.4"
  },
  "toc": {
   "base_numbering": 1,
   "nav_menu": {},
   "number_sections": true,
   "sideBar": true,
   "skip_h1_title": false,
   "title_cell": "Table of Contents",
   "title_sidebar": "Contents",
   "toc_cell": false,
   "toc_position": {},
   "toc_section_display": true,
   "toc_window_display": false
  }
 },
 "nbformat": 4,
 "nbformat_minor": 4
}
