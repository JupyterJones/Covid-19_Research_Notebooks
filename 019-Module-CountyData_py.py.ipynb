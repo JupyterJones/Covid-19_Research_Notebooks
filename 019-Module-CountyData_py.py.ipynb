{
 "cells": [
  {
   "cell_type": "markdown",
   "metadata": {},
   "source": [
    "# Get the county a city is located in\n",
    "## Create a datafile from a csv"
   ]
  },
  {
   "cell_type": "code",
   "execution_count": 8,
   "metadata": {},
   "outputs": [
    {
     "name": "stdout",
     "output_type": "stream",
     "text": [
      ",Province/State,Country/Region,Lat,Long,1/22/20,1/23/20,1/24/20,1/25/20,1/26/20,1/27/20,1/28/20,1/29/20,1/30/20,1/31/20,2/1/20,2/2/20,2/3/20,2/4/20,2/5/20,2/6/20,2/7/20,2/8/20,2/9/20,2/10/20,2/11/20,2/12/20,2/13/20,2/14/20,2/15/20,2/16/20,2/17/20,2/18/20,2/19/20,2/20/20,2/21/20,2/22/20,2/23/20,2/24/20,2/25/20,2/26/20,2/27/20,2/28/20,2/29/20,3/1/20,3/2/20,3/3/20,3/4/20,3/5/20,3/6/20,3/7/20,3/8/20,3/9/20,3/10/20,3/11/20,3/12/20,3/13/20,3/14/20,3/15/20,3/16/20,3/17/20,3/18/20,3/19/20,3/20/20,3/21/20,3/22/20,3/23/20,3/24/20,3/25/20,3/26/20,3/27/20,3/28/20,3/29/20,3/30/20,3/31/20,4/1/20,4/2/20,4/3/20,4/4/20,4/5/20,4/6/20,4/7/20,4/8/20,4/9/20,4/10/20,4/11/20,4/12/20,4/13/20,4/14/20,4/15/20,4/16/20,4/17/20,4/18/20,4/19/20,4/20/20,4/21/20,4/22/20,4/23/20,4/24/20,4/25/20,4/26/20,4/27/20,4/28/20,4/29/20,4/30/20,5/1/20,5/2/20,5/3/20,5/4/20,5/5/20,5/6/20,5/7/20,5/8/20,5/9/20,5/10/20,5/11/20,5/12/20,5/13/20,5/14/20,5/15/20\n",
      "0,,Afghanistan,33.0,65.0,0,0,0,0,0,0,0,0,0,0,0,0,0,0,0,0,0,0,0,0,0,0,0,0,0,0,0,0,0,0,0,0,0,0,0,0,0,0,0,0,0,0,0,0,0,0,0,0,0,0,0,0,0,0,0,0,0,0,0,0,1,1,1,2,4,4,4,4,4,4,4,6,6,7,7,11,14,14,15,15,18,18,21,23,25,30,30,30,33,36,36,40,42,43,47,50,57,58,60,64,68,72,85,90,95,104,106,109,115,120,122,127,132,136,153\n",
      "1,,Albania,41.1533,20.1683,0,0,0,0,0,0,0,0,0,0,0,0,0,0,0,0,0,0,0,0,0,0,0,0,0,0,0,0,0,0,0,0,0,0,0,0,0,0,0,0,0,0,0,0,0,0,0,0,0,1,1,1,1,1,1,1,2,2,2,2,2,4,5,5,6,8,10,10,11,15,15,16,17,20,20,21,22,22,23,23,23,23,23,24,25,26,26,26,26,26,26,27,27,27,27,28,28,30,30,31,31,31,31,31,31,31,31,31,31,31,31,31,31,31,31\n",
      "2,,Algeria,28.0339,1.6596,0,0,0,0,0,0,0,0,0,0,0,0,0,0,0,0,0,0,0,0,0,0,0,0,0,0,0,0,0,0,0,0,0,0,0,0,0,0,0,0,0,0,0,0,0,0,0,0,0,0,1,2,3,4,4,4,7,9,11,15,17,17,19,21,25,26,29,31,35,44,58,86,105,130,152,173,193,205,235,256,275,293,313,326,336,348,364,367,375,384,392,402,407,415,419,425,432,437,444,450,453,459,463,465,470,476,483,488,494,502,507,515,522,529,536\n",
      "3,,Andorra,42.5063,1.5218,0,0,0,0,0,0,0,0,0,0,0,0,0,0,0,0,0,0,0,0,0,0,0,0,0,0,0,0,0,0,0,0,0,0,0,0,0,0,0,0,0,0,0,0,0,0,0,0,0,0,0,0,0,0,0,0,0,0,0,0,1,1,1,1,3,3,3,6,8,12,14,15,16,17,18,21,22,23,25,26,26,29,29,31,33,33,35,35,36,37,37,37,37,40,40,40,40,41,42,42,43,44,45,45,46,46,47,47,48,48,48,48,49,49,49\n",
      "4,,Angola,-11.2027,17.8739,0,0,0,0,0,0,0,0,0,0,0,0,0,0,0,0,0,0,0,0,0,0,0,0,0,0,0,0,0,0,0,0,0,0,0,0,0,0,0,0,0,0,0,0,0,0,0,0,0,0,0,0,0,0,0,0,0,0,0,0,0,0,0,0,0,0,0,2,2,2,2,2,2,2,2,2,2,2,2,2,2,2,2,2,2,2,2,2,2,2,2,2,2,2,2,2,2,2,2,2,2,2,2,2,2,2,2,2,2,2,2,2,2,2,2\n",
      "5,,Antigua and Barbuda,17.0608,-61.7964,0,0,0,0,0,0,0,0,0,0,0,0,0,0,0,0,0,0,0,0,0,0,0,0,0,0,0,0,0,0,0,0,0,0,0,0,0,0,0,0,0,0,0,0,0,0,0,0,0,0,0,0,0,0,0,0,0,0,0,0,0,0,0,0,0,0,0,0,0,0,0,0,0,0,0,0,1,2,2,2,2,2,2,2,2,3,3,3,3,3,3,3,3,3,3,3,3,3,3,3,3,3,3,3,3,3,3,3,3,3,3,3,3,3,3\n",
      "6,,Argentina,-38.4161,-63.6167,0,0,0,0,0,0,0,0,0,0,0,0,0,0,0,0,0,0,0,0,0,0,0,0,0,0,0,0,0,0,0,0,0,0,0,0,0,0,0,0,0,0,0,0,0,0,1,1,1,1,1,2,2,2,2,2,2,3,3,4,4,4,6,8,9,13,18,19,23,27,28,36,39,43,44,48,56,63,72,82,83,90,97,102,111,115,123,129,132,136,147,152,165,176,185,192,197,207,214,218,225,237,246,260,264,273,282,293,300,305,314,319,329,353,356\n",
      "7,,Armenia,40.0691,45.0382,0,0,0,0,0,0,0,0,0,0,0,0,0,0,0,0,0,0,0,0,0,0,0,0,0,0,0,0,0,0,0,0,0,0,0,0,0,0,0,0,0,0,0,0,0,0,0,0,0,0,0,0,0,0,0,0,0,0,0,0,0,0,0,0,1,1,1,3,3,3,4,7,7,7,7,8,8,9,10,12,13,13,14,16,17,18,19,20,20,22,24,24,24,27,28,28,29,30,30,32,33,33,35,39,40,40,42,43,44,45,46,47,48,49,52\n"
     ]
    }
   ],
   "source": [
    "import test_global\n",
    "data = test_global.DATA\n",
    "cnt = 0\n",
    "data = data.split(\"\\n\")\n",
    "for line in data:\n",
    "    cnt=cnt+1\n",
    "    if cnt<10:print(line)"
   ]
  },
  {
   "cell_type": "code",
   "execution_count": null,
   "metadata": {},
   "outputs": [],
   "source": [
    "filename = \"/home/jack/Desktop/COVID-19-Jupyter-Notebooks/SimpleCities/cities-and-counties.csv\"\n",
    "COUNTYdata=[]\n",
    "cnt=0\n",
    "filein = open(\"CountyData.data\", \"w\")\n",
    "datain = open(filename, \"r\").read()\n",
    "DATAin = datain.splitlines()\n",
    "for line in DATAin:\n",
    "    cnt=cnt+1\n",
    "    filein.write(line+\"\\n\")\n",
    "    line=line.split(\",\")\n",
    "    COUNTYdata.append(line)\n",
    "cnt=0\n",
    "for line in COUNTYdata:\n",
    "    cnt=cnt+1\n",
    "    if \"Castle\" in line[0] and \"C\" in line[1]:\n",
    "        print(line)\n",
    "filein.close()"
   ]
  },
  {
   "cell_type": "code",
   "execution_count": null,
   "metadata": {},
   "outputs": [],
   "source": [
    "cnt = 0\n",
    "CNT = 0\n",
    "filein = open(\"CountyData.data\", \"r\").readlines()\n",
    "\n",
    "for line in filein:\n",
    "    CNT=CNT+1\n",
    "    line = line.replace(\"\\n\",\"\")\n",
    "    line= line .split(\",\")\n",
    "    if CNT<10:\n",
    "        print(line[0],line[1])\n",
    "print(\"-----------------\")        \n",
    "        \n",
    "for line in filein:\n",
    "    CNT=CNT+1\n",
    "    line = line.replace(\"\\n\",\"\")\n",
    "    line= line .split(\",\")\n",
    "    if \"Castle\" in line[0] and \"C\" in line[1]:\n",
    "            cnt = cnt +1\n",
    "            print(line)\n",
    "        \n",
    "\n",
    "        \n"
   ]
  },
  {
   "cell_type": "code",
   "execution_count": null,
   "metadata": {},
   "outputs": [],
   "source": [
    "http://www.statsamerica.org/Covid19.aspx"
   ]
  },
  {
   "cell_type": "markdown",
   "metadata": {},
   "source": [
    "https://simplemaps.com/data/us-cities\n",
    "Great Resource: https://datausa.io/coronavirus"
   ]
  },
  {
   "cell_type": "code",
   "execution_count": null,
   "metadata": {},
   "outputs": [],
   "source": [
    "import requests as req\n",
    "response = req.get(\"https://www2.census.gov/programs-surveys/popest/datasets/2010-2019/counties/totals/co-est2019-alldata.csv\")\n",
    "alldata = response.text\n"
   ]
  },
  {
   "cell_type": "code",
   "execution_count": null,
   "metadata": {},
   "outputs": [],
   "source": [
    "cnt=0\n",
    "ALLData =alldata.splitlines()\n",
    "for line in ALLData:\n",
    "    cnt=cnt+1\n",
    "    if cnt<20:\n",
    "        lines = line.split(\",\")\n",
    "        print(lines[4:10])"
   ]
  },
  {
   "cell_type": "code",
   "execution_count": null,
   "metadata": {},
   "outputs": [],
   "source": [
    "!ls state-data/DATA"
   ]
  },
  {
   "cell_type": "markdown",
   "metadata": {},
   "source": [
    "# Research"
   ]
  },
  {
   "cell_type": "code",
   "execution_count": null,
   "metadata": {},
   "outputs": [],
   "source": [
    "https://covid19.colorado.gov/data/case-data\n",
    "May 16th Colorado 1,192\n",
    "https://www.denverpost.com/2020/05/11/castle-rock-restaurant-closed-coroanvirus-covid/\n",
    "Info: Castle Rock restaurant opened to large Mother’s Day crowds,(May 11th)\n",
    "    Castle Rock Restaurant is located in Douglas County, Colorado"
   ]
  },
  {
   "cell_type": "markdown",
   "metadata": {},
   "source": [
    "### Monitor the Cases of COVID-19 in Douglas County, Colorado"
   ]
  },
  {
   "cell_type": "code",
   "execution_count": null,
   "metadata": {},
   "outputs": [],
   "source": [
    "cnt=0\n",
    "ALLData =alldata.splitlines()\n",
    "for line in ALLData:\n",
    "    lines = line.split(\",\")\n",
    "    if lines[5] ==\"Colorado\" and \"Douglas\" in lines[6]:\n",
    "            print(lines[4:10])\n",
    "            \n",
    "    #print(lines[5],lines[6])        \n",
    "\n",
    "\n",
    "\n",
    "\n",
    "\"\"\"\n",
    "cnt = 0\n",
    "for line in ALLData:\n",
    "    cnt=cnt+1\n",
    "    #if cnt == 1:print(line)\n",
    "for i in range(0, len(ALLData)):\n",
    "    #if ALLData[i][5] ==\"Douglas\" and ALLData[i][6] ==\"Colorado\":\n",
    "    #   CNT==0\n",
    "    #print(lines[4:10])\n",
    "    print(ALLData[i][5],ALLData[i][6])   \n",
    "\"\"\"    "
   ]
  },
  {
   "cell_type": "code",
   "execution_count": null,
   "metadata": {},
   "outputs": [],
   "source": [
    "cnt = 0\n",
    "for line in ALLData:\n",
    "    cnt=cnt+1\n",
    "    #if cnt == 1:print(line)\n",
    "for i in range(0, len(ALLData)):\n",
    "    if ALLData[i][5] ==\"Ramsey\" and ALLData[i][6] ==\"Minnesota\":\n",
    "        print(ALLData[i])"
   ]
  },
  {
   "cell_type": "code",
   "execution_count": null,
   "metadata": {},
   "outputs": [],
   "source": [
    "import requests as req\n",
    "import time\n",
    "DATE = time.strftime(\"%m-%d-%H_\")\n",
    "\n",
    "# Create an empty list\n",
    "ALLdata=[]\n",
    "\n",
    "URL =\"https://raw.githubusercontent.com/CSSEGISandData/COVID-19/master/csse_covid_19_data/csse_covid_19_time_series/time_series_covid19_deaths_US.csv\"\n",
    "\n",
    "resp = req.get(URL)\n",
    "content = resp.text\n",
    "\n",
    "#clean the content, then break the content into lines \n",
    "content=content.replace(\",,\",\",Ex,\")\n",
    "content=content.replace(\"(\",\"\")\n",
    "content=content.replace(\")\",\"\")\n",
    "content=content.replace(\"\\\"\",\"\")\n",
    "lines= content.splitlines()\n",
    "print (len(lines))\n",
    "# loop the lines one line at a time\n",
    "# split each line at the delimiter ` , ` \n",
    "# then append the empty list 'ALLdata' with the line (which is now a list):  [line]  \n",
    "for line in lines:\n",
    "    #convert the splitlines to strings\n",
    "    line= str(line).split(\",\")\n",
    "    ALLdata.append(line)"
   ]
  },
  {
   "cell_type": "code",
   "execution_count": null,
   "metadata": {},
   "outputs": [],
   "source": [
    "cnt = 0\n",
    "for line in ALLdata:\n",
    "    cnt=cnt+1\n",
    "    if cnt == 1:print(line)"
   ]
  },
  {
   "cell_type": "code",
   "execution_count": null,
   "metadata": {},
   "outputs": [],
   "source": [
    "for i in range(0, len(ALLdata)):\n",
    "    if \"Douglas\" in ALLdata[i][5] and ALLdata[i][6] ==\"Colorado\":\n",
    "        print(ALLdata[i])"
   ]
  },
  {
   "cell_type": "markdown",
   "metadata": {},
   "source": [
    "# See How CountyData.py works.\n",
    "https://gist.githubusercontent.com/JupyterJones/609a3d570b08d6d62f5f2edb9bb133ac/raw/abf3168a73b379c896a94e8f9a9321fd1553b2d4/CountyData.py"
   ]
  },
  {
   "cell_type": "code",
   "execution_count": null,
   "metadata": {},
   "outputs": [],
   "source": [
    "#This is \"Example Only\" actual datafile has 28936 lines of DATA\n",
    "\n",
    "DATA=\"\"\"Lane,SD,South Dakota,Jerauld,44.0697,-98.4246,59,49\n",
    "Willow Lake,SD,South Dakota,Clark,44.6279,-97.6387,240,248\n",
    "Montrose,SD,South Dakota,McCook,43.7002,-97.1843,442,414\n",
    "Spearfish,SD,South Dakota,Lawrence,44.4912,-103.8167,12675,272\n",
    "Emery,SD,South Dakota,Hanson,43.602,-97.6195,455,384\n",
    "Watertown,SD,South Dakota,Codington,44.9094,-97.1532,21837,475\n",
    "Buffalo,SD,South Dakota,Harding,45.5864,-103.5434,346,241\"\"\"\n",
    "\n",
    "HELP=\"\"\"Usage:\n",
    "from CountyData import *\n",
    "city = \"Joplin\"\n",
    "state = \"MO\"\n",
    "getcnty(city,state)\n",
    ">>> 'Jasper'\n",
    "\n",
    "Bonus Feature:\n",
    "import CountyData\n",
    "text = CountyData.DATA\n",
    "for lines in text.split(\"\\n\"):\n",
    "    if \"Lor\" in lines:\n",
    "        print(lines)\n",
    ">> results in every line containing 'Lor' being printed\n",
    "\"\"\"\n",
    "def getcnty(city,state):\n",
    "    \"\"\"Usage:\n",
    "    from CountyData import *\n",
    "    city = \"Joplin\"\n",
    "    state = \"MO\"\n",
    "    getcnty(city,state)\n",
    "    >>> 'Jasper'\n",
    "\n",
    "    Bonus Feature:\n",
    "    import CountyData\n",
    "    text = CountyData.DATA\n",
    "    for lines in text.split(\"\\n\"):\n",
    "        if \"Lor\" in lines:\n",
    "            print(lines)\n",
    "    >>> results in every line containing 'Lor' being printed\n",
    "    resources credited to:\n",
    "    https://simplemaps.com/data/us-cities\n",
    "    \"\"\"\n",
    "    output = DATA.split(\"\\n\")\n",
    "    for line in output:\n",
    "        line = line.split(\",\")\n",
    "        if city in line[0]:\n",
    "            if state in line[1] or state in line[2]:\n",
    "                County in line[3]\n",
    "                return County\n",
    "def getlatitude(city,state):\n",
    "    output = DATA.split(\"\\n\")\n",
    "    for line in output:\n",
    "        line = line.split(\",\")\n",
    "        if city in line[0]:\n",
    "            if state == line[1] or state in line[2]:\n",
    "                LONG,LAT = line[5],line[4]\n",
    "                return LAT,LONG\n",
    "\n"
   ]
  },
  {
   "cell_type": "code",
   "execution_count": 1,
   "metadata": {},
   "outputs": [
    {
     "data": {
      "text/plain": [
       "'Jasper'"
      ]
     },
     "execution_count": 1,
     "metadata": {},
     "output_type": "execute_result"
    }
   ],
   "source": [
    "from CountyData import *\n",
    "city = \"Joplin\"\n",
    "state = \"MO\"\n",
    "getcnty(city,state)"
   ]
  },
  {
   "cell_type": "code",
   "execution_count": 2,
   "metadata": {},
   "outputs": [
    {
     "data": {
      "text/plain": [
       "('34.345', '-106.8465')"
      ]
     },
     "execution_count": 2,
     "metadata": {},
     "output_type": "execute_result"
    }
   ],
   "source": [
    "from CountyData import *\n",
    "city = \"Jo\"\n",
    "state = \"M\"\n",
    "getlatitude(city,state)"
   ]
  },
  {
   "cell_type": "code",
   "execution_count": 3,
   "metadata": {},
   "outputs": [
    {
     "name": "stdout",
     "output_type": "stream",
     "text": [
      "Joplin,MO,Missouri,Jasper,37.0759,-94.5006,86298,535\n",
      "Joplin,MT,Montana,Liberty,48.559,-110.773,212,64\n"
     ]
    }
   ],
   "source": [
    "import CountyData\n",
    "text = CountyData.DATA\n",
    "for lines in text.split(\"\\n\"):\n",
    "    if \"oplin\" in lines:\n",
    "        print(lines)"
   ]
  },
  {
   "cell_type": "code",
   "execution_count": null,
   "metadata": {},
   "outputs": [],
   "source": []
  }
 ],
 "metadata": {
  "kernelspec": {
   "display_name": "Python(base)",
   "language": "python",
   "name": "base"
  },
  "language_info": {
   "codemirror_mode": {
    "name": "ipython",
    "version": 3
   },
   "file_extension": ".py",
   "mimetype": "text/x-python",
   "name": "python",
   "nbconvert_exporter": "python",
   "pygments_lexer": "ipython3",
   "version": "3.7.4"
  },
  "toc": {
   "base_numbering": 1,
   "nav_menu": {},
   "number_sections": true,
   "sideBar": true,
   "skip_h1_title": false,
   "title_cell": "Table of Contents",
   "title_sidebar": "Contents",
   "toc_cell": false,
   "toc_position": {},
   "toc_section_display": true,
   "toc_window_display": false
  }
 },
 "nbformat": 4,
 "nbformat_minor": 4
}
